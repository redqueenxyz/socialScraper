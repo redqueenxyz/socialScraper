{
 "cells": [
  {
   "cell_type": "markdown",
   "metadata": {},
   "source": [
    "## Google Pytrends"
   ]
  },
  {
   "cell_type": "code",
   "execution_count": 1,
   "metadata": {
    "collapsed": true
   },
   "outputs": [],
   "source": [
    "import requests\n",
    "import re\n",
    "import time\n",
    "import json\n",
    "import datetime\n",
    "import os\n",
    "import math\n",
    "import pprint\n",
    "import simplejson\n",
    "import random"
   ]
  },
  {
   "cell_type": "code",
   "execution_count": 2,
   "metadata": {
    "collapsed": false,
    "scrolled": true
   },
   "outputs": [],
   "source": [
    "import pytrends"
   ]
  },
  {
   "cell_type": "code",
   "execution_count": 3,
   "metadata": {
    "collapsed": true
   },
   "outputs": [],
   "source": [
    "g_username = \"analytics.mirum.toronto@gmail.com\"\n",
    "g_password = \"Mirum.123\"\n",
    "path = \"/users/vivek.menon/Data\""
   ]
  },
  {
   "cell_type": "code",
   "execution_count": 11,
   "metadata": {
    "collapsed": false,
    "scrolled": true
   },
   "outputs": [
    {
     "ename": "AttributeError",
     "evalue": "module 'pytrends' has no attribute 'pyGTrends'",
     "output_type": "error",
     "traceback": [
      "\u001b[0;31m---------------------------------------------------------------------------\u001b[0m",
      "\u001b[0;31mAttributeError\u001b[0m                            Traceback (most recent call last)",
      "\u001b[0;32m<ipython-input-11-9da99f4e2ff1>\u001b[0m in \u001b[0;36m<module>\u001b[0;34m()\u001b[0m\n\u001b[0;32m----> 1\u001b[0;31m \u001b[0mtrend\u001b[0m \u001b[0;34m=\u001b[0m \u001b[0mpytrends\u001b[0m\u001b[0;34m.\u001b[0m\u001b[0mpyGTrends\u001b[0m\u001b[0;34m.\u001b[0m\u001b[0mpyGTrends\u001b[0m\u001b[0;34m(\u001b[0m\u001b[0mg_username\u001b[0m\u001b[0;34m,\u001b[0m \u001b[0mg_password\u001b[0m\u001b[0;34m)\u001b[0m\u001b[0;34m\u001b[0m\u001b[0m\n\u001b[0m",
      "\u001b[0;31mAttributeError\u001b[0m: module 'pytrends' has no attribute 'pyGTrends'"
     ]
    }
   ],
   "source": [
    "trend = pytrends.pyGTrends.pyGTrends(g_username, g_password)"
   ]
  },
  {
   "cell_type": "code",
   "execution_count": 100,
   "metadata": {
    "collapsed": false,
    "scrolled": true
   },
   "outputs": [
    {
     "name": "stdout",
     "output_type": "stream",
     "text": [
      "Now downloading information for:\n",
      "http://www.google.com/trends/trendsReport?q=trump&hl=en-US&cmpt=q&content=1&export=1\n"
     ]
    }
   ],
   "source": [
    "trend.request_report('trump')"
   ]
  },
  {
   "cell_type": "code",
   "execution_count": 101,
   "metadata": {
    "collapsed": false
   },
   "outputs": [],
   "source": [
    "trend.save_csv('','trump')"
   ]
  },
  {
   "cell_type": "markdown",
   "metadata": {},
   "source": [
    "## Success\n",
    "\n",
    "Optimize for 'path'"
   ]
  },
  {
   "cell_type": "code",
   "execution_count": 78,
   "metadata": {
    "collapsed": false
   },
   "outputs": [
    {
     "name": "stdout",
     "output_type": "stream",
     "text": [
      "'test'\n"
     ]
    }
   ],
   "source": [
    "pprint.pprint('test')"
   ]
  },
  {
   "cell_type": "code",
   "execution_count": 79,
   "metadata": {
    "collapsed": false,
    "scrolled": true
   },
   "outputs": [],
   "source": [
    "g_connector = pyGTrends(g_username,g_password)"
   ]
  },
  {
   "cell_type": "code",
   "execution_count": 67,
   "metadata": {
    "collapsed": false,
    "scrolled": true
   },
   "outputs": [
    {
     "data": {
      "text/plain": [
       "{'default': {'topics': [{'mid': '/m/0cqt90',\n",
       "    'title': 'Donald Trump',\n",
       "    'type': 'American Politician'},\n",
       "   {'mid': '/m/0g8309', 'title': 'Trump', 'type': 'Topic'},\n",
       "   {'mid': '/m/013f39m8',\n",
       "    'title': 'Donald Trump presidential campaign, 2016',\n",
       "    'type': '2016'},\n",
       "   {'mid': '/m/07ncdv',\n",
       "    'title': 'The Trump Organization',\n",
       "    'type': 'Multinational conglomerate company'},\n",
       "   {'mid': '/m/031n7n',\n",
       "    'title': 'Trump International Hotel and Tower',\n",
       "    'type': 'Skyscraper in Chicago, Illinois'}]}}"
      ]
     },
     "execution_count": 67,
     "metadata": {},
     "output_type": "execute_result"
    }
   ],
   "source": [
    "g_connector.get_suggestions(\"trump\")"
   ]
  },
  {
   "cell_type": "code",
   "execution_count": 83,
   "metadata": {
    "collapsed": false,
    "scrolled": true
   },
   "outputs": [
    {
     "name": "stdout",
     "output_type": "stream",
     "text": [
      "Now downloading information for:\n",
      "http://www.google.com/trends/trendsReport?q=trump&hl=en-US&cmpt=q&content=1&export=1\n"
     ]
    }
   ],
   "source": [
    "g_connector.request_report(\"trump\")"
   ]
  },
  {
   "cell_type": "code",
   "execution_count": 84,
   "metadata": {
    "collapsed": false
   },
   "outputs": [
    {
     "ename": "AttributeError",
     "evalue": "'pyGTrends' object has no attribute 'csv'",
     "output_type": "error",
     "traceback": [
      "\u001b[0;31m---------------------------------------------------------------------------\u001b[0m",
      "\u001b[0;31mAttributeError\u001b[0m                            Traceback (most recent call last)",
      "\u001b[0;32m<ipython-input-84-10580b958c2c>\u001b[0m in \u001b[0;36m<module>\u001b[0;34m()\u001b[0m\n\u001b[0;32m----> 1\u001b[0;31m \u001b[0mprint\u001b[0m\u001b[0;34m(\u001b[0m\u001b[0mg_connector\u001b[0m\u001b[0;34m.\u001b[0m\u001b[0mcsv\u001b[0m\u001b[0;34m)\u001b[0m\u001b[0;34m\u001b[0m\u001b[0m\n\u001b[0m",
      "\u001b[0;31mAttributeError\u001b[0m: 'pyGTrends' object has no attribute 'csv'"
     ]
    }
   ],
   "source": [
    "print(g_connector.csv)"
   ]
  },
  {
   "cell_type": "code",
   "execution_count": 81,
   "metadata": {
    "collapsed": false
   },
   "outputs": [
    {
     "name": "stdout",
     "output_type": "stream",
     "text": [
      "None\n"
     ]
    }
   ],
   "source": [
    "print(report)"
   ]
  },
  {
   "cell_type": "code",
   "execution_count": 82,
   "metadata": {
    "collapsed": false
   },
   "outputs": [],
   "source": [
    "g_connector.save_csv(path, \"seetorontow.csv\")"
   ]
  },
  {
   "cell_type": "code",
   "execution_count": null,
   "metadata": {
    "collapsed": true
   },
   "outputs": [],
   "source": []
  },
  {
   "cell_type": "code",
   "execution_count": 12,
   "metadata": {
    "collapsed": false
   },
   "outputs": [
    {
     "ename": "NameError",
     "evalue": "name 'feed_string' is not defined",
     "output_type": "error",
     "traceback": [
      "\u001b[0;31m---------------------------------------------------------------------------\u001b[0m",
      "\u001b[0;31mNameError\u001b[0m                                 Traceback (most recent call last)",
      "\u001b[0;32m<ipython-input-12-b844f4dbf124>\u001b[0m in \u001b[0;36m<module>\u001b[0;34m()\u001b[0m\n\u001b[0;32m----> 1\u001b[0;31m \u001b[0mpprint\u001b[0m\u001b[0;34m.\u001b[0m\u001b[0mpprint\u001b[0m\u001b[0;34m(\u001b[0m\u001b[0mfeed_string\u001b[0m\u001b[0;34m)\u001b[0m\u001b[0;34m\u001b[0m\u001b[0m\n\u001b[0m",
      "\u001b[0;31mNameError\u001b[0m: name 'feed_string' is not defined"
     ]
    }
   ],
   "source": [
    "pprint.pprint(feed_string)"
   ]
  },
  {
   "cell_type": "code",
   "execution_count": null,
   "metadata": {
    "collapsed": true
   },
   "outputs": [],
   "source": [
    "app_name = \"r_access\"\n",
    "app_id = \"955460364539237\"\n",
    "app_secret = \"0a3e6943c90510dc158fc7683e560f7d\"\n",
    "scope = \"ads_management,manage_pages,publish_actions\""
   ]
  },
  {
   "cell_type": "code",
   "execution_count": 6,
   "metadata": {
    "collapsed": false
   },
   "outputs": [],
   "source": [
    "# Insert access token (Lasts 2 hours) \n",
    "token = 'CAACEdEose0cBAMVXLhK5tZCnDnn6xNR973GCDO2nAgoZCNvz2kMcGd7VPZAfx9AdrMZCxeDp8emv4ulxPi7miwo0wfqZC4ABiRWQU3mwFkALsD4SiM93Ekj8ucbWEYHEwgg9w4q5RrCjGtE3b3EeyTVp1AZCZBzI6TVOB7X0EktznR4svn798gbZBZA93CplY6hVx7did0rZAzAiEAquZAq6utf'\n",
    "\n",
    "# Create a graph object to interact with API\n",
    "graph  = facepy.GraphAPI(token)"
   ]
  },
  {
   "cell_type": "code",
   "execution_count": 9,
   "metadata": {
    "collapsed": false
   },
   "outputs": [
    {
     "data": {
      "text/plain": [
       "{'id': '633359826695331', 'name': 'Twist Test Page'}"
      ]
     },
     "execution_count": 9,
     "metadata": {},
     "output_type": "execute_result"
    }
   ],
   "source": [
    "# Pass through queries with graph.get \n",
    "\n",
    "# Gets Page ID and Name\n",
    "graph.get(path='me?fields=id,name')\n",
    "\n"
   ]
  },
  {
   "cell_type": "code",
   "execution_count": 45,
   "metadata": {
    "collapsed": false
   },
   "outputs": [],
   "source": [
    "feed = graph.get(path='633359826695331/feed')"
   ]
  },
  {
   "cell_type": "code",
   "execution_count": 47,
   "metadata": {
    "collapsed": false
   },
   "outputs": [
    {
     "name": "stdout",
     "output_type": "stream",
     "text": [
      "{'data': [{'actions': [{'link': 'https://www.facebook.com/633359826695331/posts/1137030299661612',\n",
      "                        'name': 'Comment'},\n",
      "                       {'link': 'https://www.facebook.com/633359826695331/posts/1137030299661612',\n",
      "                        'name': 'Like'}],\n",
      "           'created_time': '2016-03-30T14:04:32+0000',\n",
      "           'from': {'id': '10153046308598756', 'name': 'Vivek Menon'},\n",
      "           'id': '633359826695331_1137030299661612',\n",
      "           'is_expired': False,\n",
      "           'is_hidden': False,\n",
      "           'message': 'Test.',\n",
      "           'privacy': {'allow': '',\n",
      "                       'deny': '',\n",
      "                       'description': '',\n",
      "                       'friends': '',\n",
      "                       'value': ''},\n",
      "           'status_type': 'wall_post',\n",
      "           'subscribed': True,\n",
      "           'to': {'data': [{'category': 'Retail and Consumer Merchandise',\n",
      "                            'id': '633359826695331',\n",
      "                            'name': 'Twist Test Page'}]},\n",
      "           'type': 'status',\n",
      "           'updated_time': '2016-03-30T14:04:32+0000'},\n",
      "          {'actions': [{'link': 'https://www.facebook.com/633359826695331/posts/824815317549780',\n",
      "                        'name': 'Comment'},\n",
      "                       {'link': 'https://www.facebook.com/633359826695331/posts/824815317549780',\n",
      "                        'name': 'Like'}],\n",
      "           'created_time': '2014-09-16T19:21:57+0000',\n",
      "           'from': {'id': '982842985104023', 'name': 'Young Padawan'},\n",
      "           'id': '633359826695331_824815317549780',\n",
      "           'is_expired': False,\n",
      "           'is_hidden': False,\n",
      "           'message': 'how do these internets?',\n",
      "           'privacy': {'allow': '',\n",
      "                       'deny': '',\n",
      "                       'description': '',\n",
      "                       'friends': '',\n",
      "                       'value': ''},\n",
      "           'status_type': 'wall_post',\n",
      "           'subscribed': True,\n",
      "           'to': {'data': [{'category': 'Retail and Consumer Merchandise',\n",
      "                            'id': '633359826695331',\n",
      "                            'name': 'Twist Test Page'}]},\n",
      "           'type': 'status',\n",
      "           'updated_time': '2014-09-16T19:21:57+0000'},\n",
      "          {'actions': [{'link': 'https://www.facebook.com/633359826695331/posts/719383731426273',\n",
      "                        'name': 'Comment'},\n",
      "                       {'link': 'https://www.facebook.com/633359826695331/posts/719383731426273',\n",
      "                        'name': 'Like'}],\n",
      "           'created_time': '2014-02-28T18:58:02+0000',\n",
      "           'from': {'category': 'Retail and Consumer Merchandise',\n",
      "                    'id': '633359826695331',\n",
      "                    'name': 'Twist Test Page'},\n",
      "           'icon': 'https://www.facebook.com/images/icons/photo.gif',\n",
      "           'id': '633359826695331_719383731426273',\n",
      "           'is_expired': False,\n",
      "           'is_hidden': False,\n",
      "           'link': 'https://www.facebook.com/633359826695331/photos/a.666106900087290.1073741828.633359826695331/719383644759615/?type=3',\n",
      "           'message': 'TESTING',\n",
      "           'name': \"Photos from Twist Test Page's post\",\n",
      "           'object_id': '719383644759615',\n",
      "           'picture': 'https://scontent.xx.fbcdn.net/hphotos-xaf1/v/t1.0-0/p130x130/1795545_719383644759615_59805480_n.png?oh=817319ba1debd1a835d74766c889c713&oe=577C8830',\n",
      "           'privacy': {'allow': '',\n",
      "                       'deny': '',\n",
      "                       'description': 'English (UK), English (US)',\n",
      "                       'friends': '',\n",
      "                       'value': 'CUSTOM'},\n",
      "           'status_type': 'added_photos',\n",
      "           'story': 'Twist Test Page added 3 new photos.',\n",
      "           'story_tags': {'0': [{'id': '633359826695331',\n",
      "                                 'length': 15,\n",
      "                                 'name': 'Twist Test Page',\n",
      "                                 'offset': 0,\n",
      "                                 'type': 'page'}]},\n",
      "           'subscribed': True,\n",
      "           'type': 'photo',\n",
      "           'updated_time': '2014-02-28T18:58:02+0000'},\n",
      "          {'actions': [{'link': 'https://www.facebook.com/633359826695331/posts/697986546899325',\n",
      "                        'name': 'Comment'},\n",
      "                       {'link': 'https://www.facebook.com/633359826695331/posts/697986546899325',\n",
      "                        'name': 'Like'}],\n",
      "           'created_time': '2014-01-17T19:47:18+0000',\n",
      "           'from': {'category': 'Retail and Consumer Merchandise',\n",
      "                    'id': '633359826695331',\n",
      "                    'name': 'Twist Test Page'},\n",
      "           'icon': 'https://www.facebook.com/images/icons/photo.gif',\n",
      "           'id': '633359826695331_697986546899325',\n",
      "           'is_expired': False,\n",
      "           'is_hidden': False,\n",
      "           'link': 'https://www.facebook.com/633359826695331/photos/a.666106900087290.1073741828.633359826695331/697985590232754/?type=3',\n",
      "           'message': 'Winter can make hair as unpredictable as the weather! '\n",
      "                      'What’s your foolproof winter hairstyle? \\r\\n'\n",
      "                      'A.\\tPonytail\\r\\n'\n",
      "                      'B.\\tBun\\r\\n'\n",
      "                      'C.\\tBraid\\r\\n'\n",
      "                      'D.\\tJust go with it',\n",
      "           'name': 'Timeline Photos',\n",
      "           'object_id': '697985590232754',\n",
      "           'picture': 'https://scontent.xx.fbcdn.net/hphotos-frc3/v/t1.0-0/p130x130/1012251_697985590232754_1397900020_n.jpg?oh=781fa20cc1ccfb772b823f8aa344e027&oe=5773BD98',\n",
      "           'privacy': {'allow': '',\n",
      "                       'deny': '',\n",
      "                       'description': 'Anyone who can see this Page',\n",
      "                       'friends': '',\n",
      "                       'value': 'EVERYONE'},\n",
      "           'status_type': 'added_photos',\n",
      "           'subscribed': True,\n",
      "           'type': 'photo',\n",
      "           'updated_time': '2014-01-17T19:47:18+0000'},\n",
      "          {'actions': [{'link': 'https://www.facebook.com/633359826695331/posts/697986540232659',\n",
      "                        'name': 'Comment'},\n",
      "                       {'link': 'https://www.facebook.com/633359826695331/posts/697986540232659',\n",
      "                        'name': 'Like'}],\n",
      "           'created_time': '2014-01-17T19:47:18+0000',\n",
      "           'from': {'category': 'Retail and Consumer Merchandise',\n",
      "                    'id': '633359826695331',\n",
      "                    'name': 'Twist Test Page'},\n",
      "           'icon': 'https://www.facebook.com/images/icons/photo.gif',\n",
      "           'id': '633359826695331_697986540232659',\n",
      "           'is_expired': False,\n",
      "           'is_hidden': False,\n",
      "           'link': 'https://www.facebook.com/633359826695331/photos/a.666106900087290.1073741828.633359826695331/697985486899431/?type=3',\n",
      "           'message': 'Salt and slush can do a number on your car. Do you try '\n",
      "                      'to keep your car spotless during the Winter or wait '\n",
      "                      'until Spring for a clean up?',\n",
      "           'name': 'Timeline Photos',\n",
      "           'object_id': '697985486899431',\n",
      "           'picture': 'https://scontent.xx.fbcdn.net/hphotos-xpa1/v/t1.0-0/p130x130/8192_697985486899431_1179382110_n.jpg?oh=bb8a37d5af78c3f29b5fe7039aac62d9&oe=5787C0BE',\n",
      "           'privacy': {'allow': '',\n",
      "                       'deny': '',\n",
      "                       'description': 'Anyone who can see this Page',\n",
      "                       'friends': '',\n",
      "                       'value': 'EVERYONE'},\n",
      "           'status_type': 'added_photos',\n",
      "           'subscribed': True,\n",
      "           'type': 'photo',\n",
      "           'updated_time': '2014-01-17T19:47:18+0000'},\n",
      "          {'actions': [{'link': 'https://www.facebook.com/633359826695331/posts/697986536899326',\n",
      "                        'name': 'Comment'},\n",
      "                       {'link': 'https://www.facebook.com/633359826695331/posts/697986536899326',\n",
      "                        'name': 'Like'}],\n",
      "           'created_time': '2014-01-17T19:47:18+0000',\n",
      "           'from': {'category': 'Retail and Consumer Merchandise',\n",
      "                    'id': '633359826695331',\n",
      "                    'name': 'Twist Test Page'},\n",
      "           'icon': 'https://www.facebook.com/images/icons/photo.gif',\n",
      "           'id': '633359826695331_697986536899326',\n",
      "           'is_expired': False,\n",
      "           'is_hidden': False,\n",
      "           'link': 'https://www.facebook.com/633359826695331/photos/a.666106900087290.1073741828.633359826695331/697985870232726/?type=3',\n",
      "           'message': 'What’s the best part of watching the Superbowl? The '\n",
      "                      'game, the ads, or the half-time show?',\n",
      "           'name': 'Timeline Photos',\n",
      "           'object_id': '697985870232726',\n",
      "           'picture': 'https://scontent.xx.fbcdn.net/hphotos-xap1/v/t1.0-0/p130x130/1606929_697985870232726_1849219949_n.jpg?oh=f40c25cc20dd7fa539b4ccafdfd484c1&oe=57955DDA',\n",
      "           'privacy': {'allow': '',\n",
      "                       'deny': '',\n",
      "                       'description': 'Anyone who can see this Page',\n",
      "                       'friends': '',\n",
      "                       'value': 'EVERYONE'},\n",
      "           'status_type': 'added_photos',\n",
      "           'subscribed': True,\n",
      "           'type': 'photo',\n",
      "           'updated_time': '2014-01-17T19:47:18+0000'},\n",
      "          {'actions': [{'link': 'https://www.facebook.com/633359826695331/posts/697986543565992',\n",
      "                        'name': 'Comment'},\n",
      "                       {'link': 'https://www.facebook.com/633359826695331/posts/697986543565992',\n",
      "                        'name': 'Like'}],\n",
      "           'created_time': '2014-01-17T19:47:18+0000',\n",
      "           'from': {'category': 'Retail and Consumer Merchandise',\n",
      "                    'id': '633359826695331',\n",
      "                    'name': 'Twist Test Page'},\n",
      "           'icon': 'https://www.facebook.com/images/icons/photo.gif',\n",
      "           'id': '633359826695331_697986543565992',\n",
      "           'is_expired': False,\n",
      "           'is_hidden': False,\n",
      "           'link': 'https://www.facebook.com/633359826695331/photos/a.666106900087290.1073741828.633359826695331/697986226899357/?type=3',\n",
      "           'message': 'Pick your pop. Choose your chip. Score big savings!\\r\\n'\n",
      "                      'What’s your perfect Superbowl combination?',\n",
      "           'name': 'Timeline Photos',\n",
      "           'object_id': '697986226899357',\n",
      "           'picture': 'https://scontent.xx.fbcdn.net/hphotos-xat1/v/t1.0-0/p130x130/1506912_697986226899357_4685070_n.jpg?oh=c38194eb34915c1470e3fcf3dd8ff353&oe=5776499B',\n",
      "           'privacy': {'allow': '',\n",
      "                       'deny': '',\n",
      "                       'description': 'Anyone who can see this Page',\n",
      "                       'friends': '',\n",
      "                       'value': 'EVERYONE'},\n",
      "           'status_type': 'added_photos',\n",
      "           'subscribed': True,\n",
      "           'type': 'photo',\n",
      "           'updated_time': '2014-01-17T19:47:18+0000'},\n",
      "          {'actions': [{'link': 'https://www.facebook.com/633359826695331/posts/697986550232658',\n",
      "                        'name': 'Comment'},\n",
      "                       {'link': 'https://www.facebook.com/633359826695331/posts/697986550232658',\n",
      "                        'name': 'Like'}],\n",
      "           'created_time': '2014-01-17T19:47:18+0000',\n",
      "           'from': {'category': 'Retail and Consumer Merchandise',\n",
      "                    'id': '633359826695331',\n",
      "                    'name': 'Twist Test Page'},\n",
      "           'icon': 'https://www.facebook.com/images/icons/photo.gif',\n",
      "           'id': '633359826695331_697986550232658',\n",
      "           'is_expired': False,\n",
      "           'is_hidden': False,\n",
      "           'link': 'https://www.facebook.com/633359826695331/photos/a.666106900087290.1073741828.633359826695331/697986316899348/?type=3',\n",
      "           'message': 'What’s the best part of Old Spice’s new hair care '\n",
      "                      'line?\\r\\n'\n",
      "                      '1.\\tYour hair smells like a superhero\\r\\n'\n",
      "                      '2.\\tWashing away that stubborn ninja sweat\\r\\n'\n",
      "                      '3.\\tGiving each strand of hair a mini six-pack\\r\\n'\n",
      "                      '4.\\tAll of the above',\n",
      "           'name': 'Timeline Photos',\n",
      "           'object_id': '697986316899348',\n",
      "           'picture': 'https://scontent.xx.fbcdn.net/hphotos-xap1/v/t1.0-0/p130x130/1524723_697986316899348_420042020_n.jpg?oh=3c621ed443f0afa2ffe4b2ad062bef6b&oe=57772266',\n",
      "           'privacy': {'allow': '',\n",
      "                       'deny': '',\n",
      "                       'description': 'Anyone who can see this Page',\n",
      "                       'friends': '',\n",
      "                       'value': 'EVERYONE'},\n",
      "           'status_type': 'added_photos',\n",
      "           'subscribed': True,\n",
      "           'type': 'photo',\n",
      "           'updated_time': '2014-01-17T19:47:18+0000'},\n",
      "          {'actions': [{'link': 'https://www.facebook.com/633359826695331/posts/685248841506429',\n",
      "                        'name': 'Comment'},\n",
      "                       {'link': 'https://www.facebook.com/633359826695331/posts/685248841506429',\n",
      "                        'name': 'Like'}],\n",
      "           'caption': 'Walmart.ca/BoxingWeek',\n",
      "           'created_time': '2013-12-25T18:56:12+0000',\n",
      "           'description': 'Find big deals on your favourite items!',\n",
      "           'from': {'category': 'Retail and Consumer Merchandise',\n",
      "                    'id': '633359826695331',\n",
      "                    'name': 'Twist Test Page'},\n",
      "           'icon': 'https://www.facebook.com/images/icons/post.gif',\n",
      "           'id': '633359826695331_685248841506429',\n",
      "           'is_expired': False,\n",
      "           'is_hidden': False,\n",
      "           'link': 'http://wmc.tw/1d8ALlT',\n",
      "           'message': 'Think you missed all the best deals yesterday? Think '\n",
      "                      'again, we’ve got Boxing Week deals until December 31st '\n",
      "                      'in-store and at Walmart.ca. Take a look! ',\n",
      "           'name': 'Boxing Week is on now!',\n",
      "           'picture': 'https://external.xx.fbcdn.net/safe_image.php?d=AQB7vwV1FCeLvd6i&w=130&h=130&url=fbstaging%3A%2F%2Fgraph.facebook.com%2Fstaging_resources%2FMDE2ODUyNDg4MzQ4Mzk3NjM6MjA2NjM4NzQ1NA%3D%3D&cfs=1',\n",
      "           'privacy': {'allow': '',\n",
      "                       'deny': '',\n",
      "                       'description': 'Anyone who can see this Page',\n",
      "                       'friends': '',\n",
      "                       'value': 'EVERYONE'},\n",
      "           'status_type': 'shared_story',\n",
      "           'subscribed': True,\n",
      "           'type': 'link',\n",
      "           'updated_time': '2013-12-25T18:56:12+0000'},\n",
      "          {'actions': [{'link': 'https://www.facebook.com/633359826695331/posts/685248304839816',\n",
      "                        'name': 'Comment'},\n",
      "                       {'link': 'https://www.facebook.com/633359826695331/posts/685248304839816',\n",
      "                        'name': 'Like'}],\n",
      "           'caption': 'Walmart.ca/BoxingWeek',\n",
      "           'created_time': '2013-12-25T18:56:12+0000',\n",
      "           'description': 'Find big deals on your favourite items!',\n",
      "           'from': {'category': 'Retail and Consumer Merchandise',\n",
      "                    'id': '633359826695331',\n",
      "                    'name': 'Twist Test Page'},\n",
      "           'icon': 'https://www.facebook.com/images/icons/post.gif',\n",
      "           'id': '633359826695331_685248304839816',\n",
      "           'is_expired': False,\n",
      "           'is_hidden': False,\n",
      "           'link': 'http://wmc.tw/1d8AK1i',\n",
      "           'message': 'Boxing Week is here! Enjoy huge savings on tons of '\n",
      "                      'electronics in-store and online. Is there anything on '\n",
      "                      'your Boxing Week wish list?',\n",
      "           'name': 'Boxing Week is on now!',\n",
      "           'picture': 'https://external.xx.fbcdn.net/safe_image.php?d=AQBH5IJOzDDcpXvc&w=130&h=130&url=fbstaging%3A%2F%2Fgraph.facebook.com%2Fstaging_resources%2FMDE2ODUyNDgyMzQ4Mzk4MjM6NTU0MzM4MzM%3D&cfs=1',\n",
      "           'privacy': {'allow': '',\n",
      "                       'deny': '',\n",
      "                       'description': 'Anyone who can see this Page',\n",
      "                       'friends': '',\n",
      "                       'value': 'EVERYONE'},\n",
      "           'status_type': 'shared_story',\n",
      "           'subscribed': True,\n",
      "           'type': 'link',\n",
      "           'updated_time': '2013-12-25T18:56:12+0000'},\n",
      "          {'actions': [{'link': 'https://www.facebook.com/633359826695331/posts/680815088616471',\n",
      "                        'name': 'Comment'},\n",
      "                       {'link': 'https://www.facebook.com/633359826695331/posts/680815088616471',\n",
      "                        'name': 'Like'}],\n",
      "           'created_time': '2013-12-16T19:36:57+0000',\n",
      "           'from': {'category': 'Retail and Consumer Merchandise',\n",
      "                    'id': '633359826695331',\n",
      "                    'name': 'Twist Test Page'},\n",
      "           'icon': 'https://www.facebook.com/images/icons/photo.gif',\n",
      "           'id': '633359826695331_680815088616471',\n",
      "           'is_expired': False,\n",
      "           'is_hidden': False,\n",
      "           'link': 'https://www.facebook.com/633359826695331/photos/a.666106900087290.1073741828.633359826695331/680814791949834/?type=3',\n",
      "           'message': 'What’s your Christmas playlist style?',\n",
      "           'name': 'Timeline Photos',\n",
      "           'object_id': '680814791949834',\n",
      "           'picture': 'https://scontent.xx.fbcdn.net/hphotos-xpf1/v/t1.0-0/p130x130/1506005_680814791949834_668319858_n.jpg?oh=000f22d90199070469d790ae22e30e41&oe=57C0B926',\n",
      "           'privacy': {'allow': '',\n",
      "                       'deny': '',\n",
      "                       'description': 'Anyone who can see this Page',\n",
      "                       'friends': '',\n",
      "                       'value': 'EVERYONE'},\n",
      "           'status_type': 'added_photos',\n",
      "           'subscribed': True,\n",
      "           'type': 'photo',\n",
      "           'updated_time': '2013-12-16T19:36:57+0000'},\n",
      "          {'actions': [{'link': 'https://www.facebook.com/633359826695331/posts/678940402137273',\n",
      "                        'name': 'Comment'},\n",
      "                       {'link': 'https://www.facebook.com/633359826695331/posts/678940402137273',\n",
      "                        'name': 'Like'}],\n",
      "           'created_time': '2013-12-13T15:42:01+0000',\n",
      "           'from': {'category': 'Retail and Consumer Merchandise',\n",
      "                    'id': '633359826695331',\n",
      "                    'name': 'Twist Test Page'},\n",
      "           'icon': 'https://www.facebook.com/images/icons/photo.gif',\n",
      "           'id': '633359826695331_678940402137273',\n",
      "           'is_expired': False,\n",
      "           'is_hidden': False,\n",
      "           'link': 'https://www.facebook.com/633359826695331/photos/a.666106900087290.1073741828.633359826695331/678939858803994/?type=3',\n",
      "           'message': 'Hey moms, which toy do you think your baby will enjoy '\n",
      "                      'playing with the most?\\r\\n'\n",
      "                      '\\r\\n'\n",
      "                      'They’re all super cute for a baby’s first Christmas!',\n",
      "           'name': 'Timeline Photos',\n",
      "           'object_id': '678939858803994',\n",
      "           'picture': 'https://scontent.xx.fbcdn.net/hphotos-xpl1/v/t1.0-0/p130x130/1511213_678939858803994_2094802979_n.jpg?oh=cf42f0b05abfe7793aa275affb4df0fc&oe=5794EEC0',\n",
      "           'privacy': {'allow': '',\n",
      "                       'deny': '',\n",
      "                       'description': 'Anyone who can see this Page',\n",
      "                       'friends': '',\n",
      "                       'value': 'EVERYONE'},\n",
      "           'status_type': 'added_photos',\n",
      "           'subscribed': True,\n",
      "           'type': 'photo',\n",
      "           'updated_time': '2013-12-13T15:42:01+0000'},\n",
      "          {'actions': [{'link': 'https://www.facebook.com/633359826695331/posts/678573872173926',\n",
      "                        'name': 'Comment'},\n",
      "                       {'link': 'https://www.facebook.com/633359826695331/posts/678573872173926',\n",
      "                        'name': 'Like'}],\n",
      "           'created_time': '2013-12-12T21:08:29+0000',\n",
      "           'from': {'category': 'Retail and Consumer Merchandise',\n",
      "                    'id': '633359826695331',\n",
      "                    'name': 'Twist Test Page'},\n",
      "           'icon': 'https://www.facebook.com/images/icons/photo.gif',\n",
      "           'id': '633359826695331_678573872173926',\n",
      "           'is_expired': False,\n",
      "           'is_hidden': False,\n",
      "           'link': 'https://www.facebook.com/633359826695331/photos/a.666106900087290.1073741828.633359826695331/678573805507266/?type=3',\n",
      "           'message': 'Hey moms, what do you think your baby will enjoy '\n",
      "                      'playing with more?\\r\\n'\n",
      "                      '\\r\\n'\n",
      "                      'These toys or wrapping paper?',\n",
      "           'name': 'Timeline Photos',\n",
      "           'object_id': '678573805507266',\n",
      "           'picture': 'https://scontent.xx.fbcdn.net/hphotos-xlp1/v/t1.0-0/p130x130/1470080_678573805507266_47930177_n.jpg?oh=0c5fb37768dff5cf817dc78c5775588f&oe=5780444C',\n",
      "           'privacy': {'allow': '',\n",
      "                       'deny': '',\n",
      "                       'description': 'Anyone who can see this Page',\n",
      "                       'friends': '',\n",
      "                       'value': 'EVERYONE'},\n",
      "           'status_type': 'added_photos',\n",
      "           'subscribed': True,\n",
      "           'type': 'photo',\n",
      "           'updated_time': '2013-12-12T21:08:29+0000'},\n",
      "          {'actions': [{'link': 'https://www.facebook.com/633359826695331/posts/678573652173948',\n",
      "                        'name': 'Comment'},\n",
      "                       {'link': 'https://www.facebook.com/633359826695331/posts/678573652173948',\n",
      "                        'name': 'Like'}],\n",
      "           'created_time': '2013-12-12T21:08:03+0000',\n",
      "           'from': {'category': 'Retail and Consumer Merchandise',\n",
      "                    'id': '633359826695331',\n",
      "                    'name': 'Twist Test Page'},\n",
      "           'icon': 'https://www.facebook.com/images/icons/photo.gif',\n",
      "           'id': '633359826695331_678573652173948',\n",
      "           'is_expired': False,\n",
      "           'is_hidden': False,\n",
      "           'link': 'https://www.facebook.com/633359826695331/photos/a.666106900087290.1073741828.633359826695331/678573385507308/?type=3',\n",
      "           'message': 'Hey moms, what do you think your baby will enjoy '\n",
      "                      'playing with more?\\r\\n'\n",
      "                      '\\r\\n'\n",
      "                      'These toys or wrapping paper?',\n",
      "           'name': 'Timeline Photos',\n",
      "           'object_id': '678573385507308',\n",
      "           'picture': 'https://scontent.xx.fbcdn.net/hphotos-xap1/v/t1.0-0/p130x130/1463652_678573385507308_2066421254_n.jpg?oh=418130aae4ab530e07aef6d8c7c433f9&oe=5787DE5B',\n",
      "           'privacy': {'allow': '',\n",
      "                       'deny': '',\n",
      "                       'description': 'Anyone who can see this Page',\n",
      "                       'friends': '',\n",
      "                       'value': 'EVERYONE'},\n",
      "           'status_type': 'added_photos',\n",
      "           'subscribed': True,\n",
      "           'type': 'photo',\n",
      "           'updated_time': '2013-12-12T21:08:03+0000'},\n",
      "          {'actions': [{'link': 'https://www.facebook.com/633359826695331/posts/673902192641094',\n",
      "                        'name': 'Comment'},\n",
      "                       {'link': 'https://www.facebook.com/633359826695331/posts/673902192641094',\n",
      "                        'name': 'Like'}],\n",
      "           'created_time': '2013-12-03T14:53:43+0000',\n",
      "           'from': {'category': 'Retail and Consumer Merchandise',\n",
      "                    'id': '633359826695331',\n",
      "                    'name': 'Twist Test Page'},\n",
      "           'icon': 'https://www.facebook.com/images/icons/photo.gif',\n",
      "           'id': '633359826695331_673902192641094',\n",
      "           'is_expired': False,\n",
      "           'is_hidden': False,\n",
      "           'link': 'https://www.facebook.com/633359826695331/photos/a.666106900087290.1073741828.633359826695331/673902182641095/?type=3',\n",
      "           'message': \"You've made the list and checked it twice, now it's \"\n",
      "                      'time to go pick up some toys that are realllllly '\n",
      "                      'nice! \\n'\n",
      "                      '\\n'\n",
      "                      \"Are you still shopping for toys on your kids' Christmas \"\n",
      "                      'lists?',\n",
      "           'name': 'Timeline Photos',\n",
      "           'object_id': '673902182641095',\n",
      "           'picture': 'https://scontent.xx.fbcdn.net/hphotos-xap1/v/t1.0-0/p130x130/1460170_673902182641095_1413602033_n.png?oh=e1c4643d1ff935ca6ca87ba59a402a83&oe=578F1E61',\n",
      "           'privacy': {'allow': '',\n",
      "                       'deny': '',\n",
      "                       'description': 'Anyone who can see this Page',\n",
      "                       'friends': '',\n",
      "                       'value': 'EVERYONE'},\n",
      "           'status_type': 'added_photos',\n",
      "           'subscribed': True,\n",
      "           'type': 'photo',\n",
      "           'updated_time': '2013-12-03T14:54:20+0000'},\n",
      "          {'actions': [{'link': 'https://www.facebook.com/633359826695331/posts/671859016178745',\n",
      "                        'name': 'Comment'},\n",
      "                       {'link': 'https://www.facebook.com/633359826695331/posts/671859016178745',\n",
      "                        'name': 'Like'}],\n",
      "           'caption': 'walmart.ca/barbie-mansion',\n",
      "           'created_time': '2013-11-29T20:28:22+0000',\n",
      "           'description': 'Watch their faces light up Christmas morning! Get '\n",
      "                          'the the Barbie Luxury Mansion today at Walmart.ca',\n",
      "           'from': {'category': 'Retail and Consumer Merchandise',\n",
      "                    'id': '633359826695331',\n",
      "                    'name': 'Twist Test Page'},\n",
      "           'icon': 'https://www.facebook.com/images/icons/post.gif',\n",
      "           'id': '633359826695331_671859016178745',\n",
      "           'is_expired': False,\n",
      "           'is_hidden': False,\n",
      "           'link': 'http://walmart.ca/',\n",
      "           'message': 'Which toy are the kids in Quebec City wishing for this '\n",
      "                      'Christmas?',\n",
      "           'name': 'The Barbie Luxury Mansion!',\n",
      "           'picture': 'https://external.xx.fbcdn.net/safe_image.php?d=AQCARq5_XbbyYFYl&w=130&h=130&url=fbstaging%3A%2F%2Fgraph.facebook.com%2Fstaging_resources%2FMDE2NzE4NTg5OTk1MTIwODA6MjAxNDg3MDE2Ng%3D%3D&cfs=1&sx=277&sy=0&sw=627&sh=627',\n",
      "           'privacy': {'allow': '',\n",
      "                       'deny': '',\n",
      "                       'description': 'Anyone who can see this Page',\n",
      "                       'friends': '',\n",
      "                       'value': 'EVERYONE'},\n",
      "           'status_type': 'shared_story',\n",
      "           'subscribed': True,\n",
      "           'type': 'link',\n",
      "           'updated_time': '2013-11-29T20:28:22+0000'},\n",
      "          {'actions': [{'link': 'https://www.facebook.com/633359826695331/posts/671858386178808',\n",
      "                        'name': 'Comment'},\n",
      "                       {'link': 'https://www.facebook.com/633359826695331/posts/671858386178808',\n",
      "                        'name': 'Like'}],\n",
      "           'caption': 'walmart.ca/LeapPad-Ultra',\n",
      "           'created_time': '2013-11-29T20:28:22+0000',\n",
      "           'description': 'Watch their faces light up Christmas morning! Get '\n",
      "                          'the LeapPad Ultra today at Walmart.ca ',\n",
      "           'from': {'category': 'Retail and Consumer Merchandise',\n",
      "                    'id': '633359826695331',\n",
      "                    'name': 'Twist Test Page'},\n",
      "           'icon': 'https://www.facebook.com/images/icons/post.gif',\n",
      "           'id': '633359826695331_671858386178808',\n",
      "           'is_expired': False,\n",
      "           'is_hidden': False,\n",
      "           'link': 'http://walmart.ca/',\n",
      "           'message': 'All the kids in Whitby are asking Santa for the LeapPad '\n",
      "                      'Ultra this Christmas! ',\n",
      "           'name': 'Make Their Wishes Come True!',\n",
      "           'picture': 'https://external.xx.fbcdn.net/safe_image.php?d=AQC5YwwCZlO3-a-O&w=130&h=130&url=fbstaging%3A%2F%2Fgraph.facebook.com%2Fstaging_resources%2FMDE2NzE4NTgzNzk1MTIxNDI6MTc5MjUzNzg3Mw%3D%3D&cfs=1',\n",
      "           'privacy': {'allow': '',\n",
      "                       'deny': '',\n",
      "                       'description': 'Anyone who can see this Page',\n",
      "                       'friends': '',\n",
      "                       'value': 'EVERYONE'},\n",
      "           'status_type': 'shared_story',\n",
      "           'subscribed': True,\n",
      "           'type': 'link',\n",
      "           'updated_time': '2013-11-29T20:28:22+0000'},\n",
      "          {'actions': [{'link': 'https://www.facebook.com/633359826695331/posts/671860882845225',\n",
      "                        'name': 'Comment'},\n",
      "                       {'link': 'https://www.facebook.com/633359826695331/posts/671860882845225',\n",
      "                        'name': 'Like'}],\n",
      "           'caption': 'walmart.ca/furby-boom',\n",
      "           'created_time': '2013-11-29T20:28:22+0000',\n",
      "           'description': 'Watch their faces light up Christmas morning! Get '\n",
      "                          'the Fun and Interactive Furby Boom today at '\n",
      "                          'Walmart.ca',\n",
      "           'from': {'category': 'Retail and Consumer Merchandise',\n",
      "                    'id': '633359826695331',\n",
      "                    'name': 'Twist Test Page'},\n",
      "           'icon': 'https://www.facebook.com/images/icons/post.gif',\n",
      "           'id': '633359826695331_671860882845225',\n",
      "           'is_expired': False,\n",
      "           'is_hidden': False,\n",
      "           'link': 'http://walmart.ca/',\n",
      "           'message': 'All the kids in Port Alberni have this awesome toy on '\n",
      "                      'their holiday wish list…',\n",
      "           'name': 'The Fun and Interactive Furby Boom!',\n",
      "           'picture': 'https://external.xx.fbcdn.net/safe_image.php?d=AQDoAKWylcVJScN5&w=130&h=130&url=fbstaging%3A%2F%2Fgraph.facebook.com%2Fstaging_resources%2FMDE2NzE4NjA4Njk1MTE4OTM6MjAyNTkxNDk4Nw%3D%3D&cfs=1',\n",
      "           'privacy': {'allow': '',\n",
      "                       'deny': '',\n",
      "                       'description': 'Anyone who can see this Page',\n",
      "                       'friends': '',\n",
      "                       'value': 'EVERYONE'},\n",
      "           'status_type': 'shared_story',\n",
      "           'subscribed': True,\n",
      "           'type': 'link',\n",
      "           'updated_time': '2013-11-29T20:28:22+0000'},\n",
      "          {'actions': [{'link': 'https://www.facebook.com/633359826695331/posts/671854569512523',\n",
      "                        'name': 'Comment'},\n",
      "                       {'link': 'https://www.facebook.com/633359826695331/posts/671854569512523',\n",
      "                        'name': 'Like'}],\n",
      "           'created_time': '2013-11-29T20:09:53+0000',\n",
      "           'from': {'category': 'Retail and Consumer Merchandise',\n",
      "                    'id': '633359826695331',\n",
      "                    'name': 'Twist Test Page'},\n",
      "           'icon': 'https://www.facebook.com/images/icons/photo.gif',\n",
      "           'id': '633359826695331_671854569512523',\n",
      "           'is_expired': False,\n",
      "           'is_hidden': False,\n",
      "           'link': 'https://www.facebook.com/633359826695331/photos/a.666106900087290.1073741828.633359826695331/671854499512530/?type=3',\n",
      "           'message': 'Only a few days to go until Christmas! Visit a Walmart '\n",
      "                      'location near you for our Top 20 Toys, selected by the '\n",
      "                      'outstanding kids and moms at our Toy Testers event!',\n",
      "           'name': 'Timeline Photos',\n",
      "           'object_id': '671854499512530',\n",
      "           'picture': 'https://scontent.xx.fbcdn.net/hphotos-xpt1/v/t1.0-0/p130x130/1483308_671854499512530_1963272917_n.png?oh=c21e495ff624b2e5fb61faafe5077ea1&oe=577393A4',\n",
      "           'privacy': {'allow': '',\n",
      "                       'deny': '',\n",
      "                       'description': 'Anyone who can see this Page',\n",
      "                       'friends': '',\n",
      "                       'value': 'EVERYONE'},\n",
      "           'status_type': 'added_photos',\n",
      "           'subscribed': True,\n",
      "           'type': 'photo',\n",
      "           'updated_time': '2013-11-29T20:09:53+0000'},\n",
      "          {'actions': [{'link': 'https://www.facebook.com/633359826695331/posts/670302756334371',\n",
      "                        'name': 'Comment'},\n",
      "                       {'link': 'https://www.facebook.com/633359826695331/posts/670302756334371',\n",
      "                        'name': 'Like'}],\n",
      "           'caption': 'walmart.ca/top-20-toys',\n",
      "           'created_time': '2013-11-26T23:34:28+0000',\n",
      "           'description': 'Find all of our #Top20Toys as chosen by kids and '\n",
      "                          'moms at Walmart.ca ',\n",
      "           'from': {'category': 'Retail and Consumer Merchandise',\n",
      "                    'id': '633359826695331',\n",
      "                    'name': 'Twist Test Page'},\n",
      "           'icon': 'https://www.facebook.com/images/icons/post.gif',\n",
      "           'id': '633359826695331_670302756334371',\n",
      "           'is_expired': False,\n",
      "           'is_hidden': False,\n",
      "           'link': 'http://wmc.tw/IhcheF',\n",
      "           'message': 'At #15, it’s the Go! Go! Smart Wheels Train Station, '\n",
      "                      '#14, the Boom Boom Balloon, and #13, the LeapPad '\n",
      "                      'Ultra. ',\n",
      "           'name': 'Our Christmas Countdown is in full swing!',\n",
      "           'picture': 'https://external.xx.fbcdn.net/safe_image.php?d=AQBfgY0PiEfT45F3&w=130&h=130&url=fbstaging%3A%2F%2Fgraph.facebook.com%2Fstaging_resources%2FMDE2NzAzMDI3NDYzMzQzNzI6NDQ4NzkyOTIw&cfs=1&l',\n",
      "           'privacy': {'allow': '',\n",
      "                       'deny': '',\n",
      "                       'description': 'Anyone who can see this Page',\n",
      "                       'friends': '',\n",
      "                       'value': 'EVERYONE'},\n",
      "           'status_type': 'shared_story',\n",
      "           'subscribed': True,\n",
      "           'type': 'link',\n",
      "           'updated_time': '2013-11-26T23:34:28+0000'},\n",
      "          {'actions': [{'link': 'https://www.facebook.com/633359826695331/posts/666523013379012',\n",
      "                        'name': 'Comment'},\n",
      "                       {'link': 'https://www.facebook.com/633359826695331/posts/666523013379012',\n",
      "                        'name': 'Like'}],\n",
      "           'created_time': '2013-11-20T19:11:10+0000',\n",
      "           'from': {'category': 'Retail and Consumer Merchandise',\n",
      "                    'id': '633359826695331',\n",
      "                    'name': 'Twist Test Page'},\n",
      "           'icon': 'https://www.facebook.com/images/icons/photo.gif',\n",
      "           'id': '633359826695331_666523013379012',\n",
      "           'is_expired': False,\n",
      "           'is_hidden': False,\n",
      "           'link': 'https://www.facebook.com/633359826695331/photos/a.666106900087290.1073741828.633359826695331/666522526712394/?type=3',\n",
      "           'message': 'FINALLY, the Xbox One launches tomorrow! Has your '\n",
      "                      'family been waiting for this all-in-one entertainment '\n",
      "                      'system?',\n",
      "           'name': 'Timeline Photos',\n",
      "           'object_id': '666522526712394',\n",
      "           'picture': 'https://scontent.xx.fbcdn.net/hphotos-xap1/v/t1.0-0/p130x130/1463090_666522526712394_60811914_n.jpg?oh=940f11ce32cc5f5dd65564403b3c27f3&oe=577B5D28',\n",
      "           'privacy': {'allow': '',\n",
      "                       'deny': '',\n",
      "                       'description': 'Anyone who can see this Page',\n",
      "                       'friends': '',\n",
      "                       'value': 'EVERYONE'},\n",
      "           'status_type': 'added_photos',\n",
      "           'subscribed': True,\n",
      "           'type': 'photo',\n",
      "           'updated_time': '2013-11-20T19:11:10+0000'},\n",
      "          {'actions': [{'link': 'https://www.facebook.com/633359826695331/posts/666523010045679',\n",
      "                        'name': 'Comment'},\n",
      "                       {'link': 'https://www.facebook.com/633359826695331/posts/666523010045679',\n",
      "                        'name': 'Like'}],\n",
      "           'created_time': '2013-11-20T19:11:10+0000',\n",
      "           'from': {'category': 'Retail and Consumer Merchandise',\n",
      "                    'id': '633359826695331',\n",
      "                    'name': 'Twist Test Page'},\n",
      "           'icon': 'https://www.facebook.com/images/icons/photo.gif',\n",
      "           'id': '633359826695331_666523010045679',\n",
      "           'is_expired': False,\n",
      "           'is_hidden': False,\n",
      "           'link': 'https://www.facebook.com/633359826695331/photos/a.666106900087290.1073741828.633359826695331/666522886712358/?type=3',\n",
      "           'message': 'Find the perfect gift and mom’s new favourite sweater! '\n",
      "                      'Check out the Alia line in stores now.',\n",
      "           'name': 'Timeline Photos',\n",
      "           'object_id': '666522886712358',\n",
      "           'picture': 'https://scontent.xx.fbcdn.net/hphotos-frc3/v/t1.0-0/p130x130/602095_666522886712358_30257797_n.jpg?oh=7b9cf8d644e017adcfdc64f616e5f7f8&oe=5786621B',\n",
      "           'privacy': {'allow': '',\n",
      "                       'deny': '',\n",
      "                       'description': 'Anyone who can see this Page',\n",
      "                       'friends': '',\n",
      "                       'value': 'EVERYONE'},\n",
      "           'status_type': 'added_photos',\n",
      "           'subscribed': True,\n",
      "           'type': 'photo',\n",
      "           'updated_time': '2013-11-20T19:11:10+0000'},\n",
      "          {'actions': [{'link': 'https://www.facebook.com/633359826695331/posts/666425226722124',\n",
      "                        'name': 'Comment'},\n",
      "                       {'link': 'https://www.facebook.com/633359826695331/posts/666425226722124',\n",
      "                        'name': 'Like'}],\n",
      "           'created_time': '2013-11-20T15:00:01+0000',\n",
      "           'from': {'category': 'Retail and Consumer Merchandise',\n",
      "                    'id': '633359826695331',\n",
      "                    'name': 'Twist Test Page'},\n",
      "           'icon': 'https://www.facebook.com/images/icons/photo.gif',\n",
      "           'id': '633359826695331_666425226722124',\n",
      "           'is_expired': False,\n",
      "           'is_hidden': False,\n",
      "           'link': 'https://www.facebook.com/633359826695331/photos/a.666106900087290.1073741828.633359826695331/666189896745657/?type=3',\n",
      "           'message': 'Roulement de tambour! Les deux premiers jouets de notre '\n",
      "                      'décompte #Top20Toys sont... En 20e position, le Roi '\n",
      "                      'robot Arkeyan de Skylanders et en 19e position, La '\n",
      "                      'Question Impossible. Vous pouvez vous les procurez sur '\n",
      "                      'Walmart.ca et voir ainsi les yeux de vos petits '\n",
      "                      's’illuminer au matin de Noël! \\r\\n'\n",
      "                      '\\r\\n'\n",
      "                      'http://wmc.tw/1aELGlD',\n",
      "           'name': 'Timeline Photos',\n",
      "           'object_id': '666189896745657',\n",
      "           'picture': 'https://scontent.xx.fbcdn.net/hphotos-xpa1/v/t1.0-0/p130x130/1450052_666189896745657_391904310_n.jpg?oh=6772ca09594a99140c8c80b9bfdac7d4&oe=57925245',\n",
      "           'privacy': {'allow': '',\n",
      "                       'deny': '',\n",
      "                       'description': 'Canada, Français (France), Français '\n",
      "                                      '(Canada)',\n",
      "                       'friends': '',\n",
      "                       'value': 'CUSTOM'},\n",
      "           'status_type': 'added_photos',\n",
      "           'subscribed': True,\n",
      "           'type': 'photo',\n",
      "           'updated_time': '2013-11-20T15:00:01+0000'},\n",
      "          {'actions': [{'link': 'https://www.facebook.com/633359826695331/posts/666412790056701',\n",
      "                        'name': 'Comment'},\n",
      "                       {'link': 'https://www.facebook.com/633359826695331/posts/666412790056701',\n",
      "                        'name': 'Like'}],\n",
      "           'caption': 'walmart.ca/top-20-toys',\n",
      "           'created_time': '2013-11-20T14:25:25+0000',\n",
      "           'description': 'Find all of our #Top20Toys as chosen by kids and '\n",
      "                          'moms at Walmart.ca',\n",
      "           'from': {'category': 'Retail and Consumer Merchandise',\n",
      "                    'id': '633359826695331',\n",
      "                    'name': 'Twist Test Page'},\n",
      "           'icon': 'https://www.facebook.com/images/icons/post.gif',\n",
      "           'id': '633359826695331_666412790056701',\n",
      "           'is_expired': False,\n",
      "           'is_hidden': False,\n",
      "           'link': 'http://wmc.tw/18m442X',\n",
      "           'message': 'At #15, it’s the Go! Go! Smart Wheels Train Station, '\n",
      "                      '#14, the Boom Boom Balloon, and #13, the LeapPad Ultra.',\n",
      "           'name': 'Our Christmas Countdown is in full swing!',\n",
      "           'picture': 'https://external.xx.fbcdn.net/safe_image.php?d=AQDAGWDBmj5A7mLc&w=130&h=130&url=fbstaging%3A%2F%2Fgraph.facebook.com%2Fstaging_resources%2FMDE2NjY0MTI3ODAwNTY3MDI6NTI2OTA2MTAz&cfs=1',\n",
      "           'privacy': {'allow': '',\n",
      "                       'deny': '',\n",
      "                       'description': 'Anyone who can see this Page',\n",
      "                       'friends': '',\n",
      "                       'value': 'EVERYONE'},\n",
      "           'status_type': 'shared_story',\n",
      "           'subscribed': True,\n",
      "           'type': 'link',\n",
      "           'updated_time': '2013-11-20T14:25:25+0000'},\n",
      "          {'actions': [{'link': 'https://www.facebook.com/633359826695331/posts/666107993420514',\n",
      "                        'name': 'Comment'},\n",
      "                       {'link': 'https://www.facebook.com/633359826695331/posts/666107993420514',\n",
      "                        'name': 'Like'}],\n",
      "           'caption': 'www.walmart.ca',\n",
      "           'created_time': '2013-11-20T00:17:43+0000',\n",
      "           'description': 'Get them now on Walmart.ca and watch their faces '\n",
      "                          'light up Christmas morning! ',\n",
      "           'from': {'category': 'Retail and Consumer Merchandise',\n",
      "                    'id': '633359826695331',\n",
      "                    'name': 'Twist Test Page'},\n",
      "           'icon': 'https://www.facebook.com/images/icons/post.gif',\n",
      "           'id': '633359826695331_666107993420514',\n",
      "           'is_expired': False,\n",
      "           'is_hidden': False,\n",
      "           'link': 'http://www.walmart.ca/en/top-20-toys?icid=SP_NA_Top20Toys_NA_HP_NA_NA_HPHB_11152013_43_E',\n",
      "           'message': 'Drum roll! The first two toys in our #Top20Toys '\n",
      "                      'countdown are…#20, the Skylanders Arkeyan Robot King '\n",
      "                      'and #19, the LeapReader. ',\n",
      "           'name': 'Top 20 Toys at Walmart.ca',\n",
      "           'picture': 'https://external.xx.fbcdn.net/safe_image.php?d=AQAj8uJjmAbUosYg&w=130&h=130&url=fbstaging%3A%2F%2Fgraph.facebook.com%2Fstaging_resources%2FMDE2NjYxMDc5ODY3NTM4NDg6MTQ1OTc1MjYwNA%3D%3D&cfs=1',\n",
      "           'privacy': {'allow': '',\n",
      "                       'deny': '',\n",
      "                       'description': 'Anyone who can see this Page',\n",
      "                       'friends': '',\n",
      "                       'value': 'EVERYONE'},\n",
      "           'status_type': 'shared_story',\n",
      "           'subscribed': True,\n",
      "           'type': 'link',\n",
      "           'updated_time': '2013-11-20T00:17:43+0000'}],\n",
      " 'paging': {'next': 'https://graph.facebook.com/v2.0/633359826695331/feed?access_token=CAACEdEose0cBAPR265Pb3khZAO4eoaOATjr1ZACgA6OXNthNLl4kI6sOdejJWU3oBeznhK3SDWbBzwWfk3zJRIMiYP0LUpc0nRhlrTMVAvdu7dLsDpZAZAAwzUlQNreve9Bc2r4EhtSS6iZCzzrroKwZAfXwDTXdmUbOREPX2neOkh58dmkR3sfwKewiQdkhgIBJR8dO9YEAZDZD&limit=25&until=1384906663&__paging_token=enc_AdA6h4LCgp9pBhUr8Vgk4iKWHZCYy6obcpsuZCZArOYYh64xridjnQbCgAHq0ylyyBLGpsD7o2o3iNZByZCkjXu9pLzXs91K7b77f0apUeZCIgONzIlgZDZD',\n",
      "            'previous': 'https://graph.facebook.com/v2.0/633359826695331/feed?since=1459346672&access_token=CAACEdEose0cBAPR265Pb3khZAO4eoaOATjr1ZACgA6OXNthNLl4kI6sOdejJWU3oBeznhK3SDWbBzwWfk3zJRIMiYP0LUpc0nRhlrTMVAvdu7dLsDpZAZAAwzUlQNreve9Bc2r4EhtSS6iZCzzrroKwZAfXwDTXdmUbOREPX2neOkh58dmkR3sfwKewiQdkhgIBJR8dO9YEAZDZD&limit=25&__paging_token=enc_AdDpJR5G2ydEjabtKWpPZBt102XixD1vVR4MsQXn5jFfSc9uXsuqglq5JDXiAZAdZApAsxWF89CHSol3opBGtV2bZB9tqjsfXN5YycEITTml08McYQZDZD&__previous=1'}}\n"
     ]
    }
   ],
   "source": [
    "pprint.pprint(feed)"
   ]
  },
  {
   "cell_type": "code",
   "execution_count": 35,
   "metadata": {
    "collapsed": false
   },
   "outputs": [
    {
     "data": {
      "text/plain": [
       "dict"
      ]
     },
     "execution_count": 35,
     "metadata": {},
     "output_type": "execute_result"
    }
   ],
   "source": [
    "type(feed_json)"
   ]
  },
  {
   "cell_type": "code",
   "execution_count": 70,
   "metadata": {
    "collapsed": false,
    "scrolled": true
   },
   "outputs": [
    {
     "data": {
      "text/plain": [
       "{'actions': [{'link': 'https://www.facebook.com/633359826695331/posts/1137030299661612',\n",
       "   'name': 'Comment'},\n",
       "  {'link': 'https://www.facebook.com/633359826695331/posts/1137030299661612',\n",
       "   'name': 'Like'}],\n",
       " 'created_time': '2016-03-30T14:04:32+0000',\n",
       " 'from': {'id': '10153046308598756', 'name': 'Vivek Menon'},\n",
       " 'id': '633359826695331_1137030299661612',\n",
       " 'is_expired': False,\n",
       " 'is_hidden': False,\n",
       " 'message': 'Test.',\n",
       " 'privacy': {'allow': '',\n",
       "  'deny': '',\n",
       "  'description': '',\n",
       "  'friends': '',\n",
       "  'value': ''},\n",
       " 'status_type': 'wall_post',\n",
       " 'subscribed': True,\n",
       " 'to': {'data': [{'category': 'Retail and Consumer Merchandise',\n",
       "    'id': '633359826695331',\n",
       "    'name': 'Twist Test Page'}]},\n",
       " 'type': 'status',\n",
       " 'updated_time': '2016-03-30T14:04:32+0000'}"
      ]
     },
     "execution_count": 70,
     "metadata": {},
     "output_type": "execute_result"
    }
   ],
   "source": [
    "feed['data'][0][message]"
   ]
  },
  {
   "cell_type": "code",
   "execution_count": 102,
   "metadata": {
    "collapsed": false
   },
   "outputs": [
    {
     "name": "stdout",
     "output_type": "stream",
     "text": [
      "'TESTING'\n"
     ]
    }
   ],
   "source": [
    "pprint.pprint(feed['data'][2])"
   ]
  },
  {
   "cell_type": "code",
   "execution_count": 107,
   "metadata": {
    "collapsed": false,
    "scrolled": false
   },
   "outputs": [
    {
     "name": "stdout",
     "output_type": "stream",
     "text": [
      "'TESTING'\n"
     ]
    }
   ],
   "source": [
    "pprint.pprint(feed['data'][2]['message'])\n",
    "\n",
    "sample = feed['data'][2]['message']"
   ]
  },
  {
   "cell_type": "code",
   "execution_count": 104,
   "metadata": {
    "collapsed": true
   },
   "outputs": [],
   "source": [
    "import textblob"
   ]
  },
  {
   "cell_type": "code",
   "execution_count": 147,
   "metadata": {
    "collapsed": false
   },
   "outputs": [],
   "source": [
    "sample = \"I just spent an hour and a half on a Telus chat looking for some help or for an explanation about optik tv on my account. I chose the chat feature, as its a little quicker than phoning Telus - a phone company that takes between 2-3 hours to answer their phones. Im sure Telus does this on purpose, because most frustrated and/or angry customers simply give up trying to phone rather than remaining on hold (listening to music nobody would ever chose for 2 - 3 hours) and therefore that cuts down (I believe) considerably on customer complaints. Tonight, I chatted with two Telus representatives online and neither one could answer a very simple question regarding the sudden disappearance of one channel on my optik tv. (yes, I know this sounds petty, but I only watch 2 channels in total, so thats 50% of my service.) I consider this lack of service and information a new ploy of teluss as a way to deter customers from ever complaining about anything since one can (it appears) no longer get help either by phone or via internet. I imagine they also have every door to both their headquarters and every office building they occupy bolted, so that no member of the public or especially any customer could ever cross their thresholds.  Heres what I learned tonight: Telus online representatives are trained by Bill Clinton. Although they are unable to help in any way or give any reasons for why tv channels vanish inexplicably, while at the same time, bills constantly creep up in price with the passage of time, (usually very little time) they feel your pain. They very much understand your frustration and they are sorry about that. I dont put any blame on the reps who have to deal with us, the public - I blame the Telus Corporation.  This company despite ever rising profits, slashes jobs while cutting services. This company does not give one hoot about their customers or their customers time if they try to contact them and therefore, they have rightfully earned this very negative post from me. I am now waiting for a phone call from a specialist representative which I have been told will come in 48 - 72 hours from now. Ill be spending this time reading and writing as I no longer have anything left to watch on TV.....\""
   ]
  },
  {
   "cell_type": "code",
   "execution_count": 207,
   "metadata": {
    "collapsed": true
   },
   "outputs": [],
   "source": [
    "sample2 = r\"just got off the phone with one of your reps and after 15 years of being loyal to Telus, both my husband and I are going to cancel our line and take our business elsewhere. Way to retain your good customers\""
   ]
  },
  {
   "cell_type": "code",
   "execution_count": 212,
   "metadata": {
    "collapsed": false
   },
   "outputs": [],
   "source": [
    "sample3 = r\"The wifi at the TELUS World of Science does not work. How can you sell internet service if you can't get it work in your own building? And yes, I've contacted you, reset everything, talked to people who work here. Could you please send a truck here?\""
   ]
  },
  {
   "cell_type": "code",
   "execution_count": 213,
   "metadata": {
    "collapsed": false
   },
   "outputs": [
    {
     "name": "stdout",
     "output_type": "stream",
     "text": [
      "I just spent an hour and a half on a Telus chat looking for some help or for an explanation about optik tv on my account. I chose the chat feature, as its a little quicker than phoning Telus - a phone company that takes between 2-3 hours to answer their phones. Im sure Telus does this on purpose, because most frustrated and/or angry customers simply give up trying to phone rather than remaining on hold (listening to music nobody would ever chose for 2 - 3 hours) and therefore that cuts down (I believe) considerably on customer complaints. Tonight, I chatted with two Telus representatives online and neither one could answer a very simple question regarding the sudden disappearance of one channel on my optik tv. (yes, I know this sounds petty, but I only watch 2 channels in total, so thats 50% of my service.) I consider this lack of service and information a new ploy of teluss as a way to deter customers from ever complaining about anything since one can (it appears) no longer get help either by phone or via internet. I imagine they also have every door to both their headquarters and every office building they occupy bolted, so that no member of the public or especially any customer could ever cross their thresholds.  Heres what I learned tonight: Telus online representatives are trained by Bill Clinton. Although they are unable to help in any way or give any reasons for why tv channels vanish inexplicably, while at the same time, bills constantly creep up in price with the passage of time, (usually very little time) they feel your pain. They very much understand your frustration and they are sorry about that. I dont put any blame on the reps who have to deal with us, the public - I blame the Telus Corporation.  This company despite ever rising profits, slashes jobs while cutting services. This company does not give one hoot about their customers or their customers time if they try to contact them and therefore, they have rightfully earned this very negative post from me. I am now waiting for a phone call from a specialist representative which I have been told will come in 48 - 72 hours from now. Ill be spending this time reading and writing as I no longer have anything left to watch on TV.....\n",
      "just got off the phone with one of your reps and after 15 years of being loyal to Telus, both my husband and I are going to cancel our line and take our business elsewhere. Way to retain your good customers\n",
      "The wifi at the TELUS World of Science does not work. How can you sell internet service if you can't get it work in your own building? And yes, I've contacted you, reset everything, talked to people who work here. Could you please send a truck here?\n"
     ]
    }
   ],
   "source": [
    "print(sample)\n",
    "print(sample2)\n",
    "print(sample3)"
   ]
  },
  {
   "cell_type": "code",
   "execution_count": 149,
   "metadata": {
    "collapsed": false,
    "scrolled": true
   },
   "outputs": [],
   "source": [
    "blob = textblob.TextBlob(sample)"
   ]
  },
  {
   "cell_type": "code",
   "execution_count": 150,
   "metadata": {
    "collapsed": false
   },
   "outputs": [
    {
     "data": {
      "text/plain": [
       "[('I', 'PRP'),\n",
       " ('just', 'RB'),\n",
       " ('spent', 'VBD'),\n",
       " ('an', 'DT'),\n",
       " ('hour', 'NN'),\n",
       " ('and', 'CC'),\n",
       " ('a', 'DT'),\n",
       " ('half', 'NN'),\n",
       " ('on', 'IN'),\n",
       " ('a', 'DT'),\n",
       " ('Telus', 'NNP'),\n",
       " ('chat', 'WDT'),\n",
       " ('looking', 'VBG'),\n",
       " ('for', 'IN'),\n",
       " ('some', 'DT'),\n",
       " ('help', 'NN'),\n",
       " ('or', 'CC'),\n",
       " ('for', 'IN'),\n",
       " ('an', 'DT'),\n",
       " ('explanation', 'NN'),\n",
       " ('about', 'IN'),\n",
       " ('optik', 'JJ'),\n",
       " ('tv', 'NN'),\n",
       " ('on', 'IN'),\n",
       " ('my', 'PRP$'),\n",
       " ('account', 'NN'),\n",
       " ('I', 'PRP'),\n",
       " ('chose', 'VBD'),\n",
       " ('the', 'DT'),\n",
       " ('chat', 'NN'),\n",
       " ('feature', 'NN'),\n",
       " ('as', 'IN'),\n",
       " ('its', 'PRP$'),\n",
       " ('a', 'DT'),\n",
       " ('little', 'JJ'),\n",
       " ('quicker', 'NN'),\n",
       " ('than', 'IN'),\n",
       " ('phoning', 'VBG'),\n",
       " ('Telus', 'NNP'),\n",
       " ('a', 'DT'),\n",
       " ('phone', 'NN'),\n",
       " ('company', 'NN'),\n",
       " ('that', 'WDT'),\n",
       " ('takes', 'VBZ'),\n",
       " ('between', 'IN'),\n",
       " ('2-3', 'JJ'),\n",
       " ('hours', 'NNS'),\n",
       " ('to', 'TO'),\n",
       " ('answer', 'VB'),\n",
       " ('their', 'PRP$'),\n",
       " ('phones', 'NNS'),\n",
       " ('Im', 'NNP'),\n",
       " ('sure', 'JJ'),\n",
       " ('Telus', 'NNP'),\n",
       " ('does', 'VBZ'),\n",
       " ('this', 'DT'),\n",
       " ('on', 'IN'),\n",
       " ('purpose', 'NN'),\n",
       " ('because', 'IN'),\n",
       " ('most', 'JJS'),\n",
       " ('frustrated', 'JJ'),\n",
       " ('and/or', 'NN'),\n",
       " ('angry', 'JJ'),\n",
       " ('customers', 'NNS'),\n",
       " ('simply', 'RB'),\n",
       " ('give', 'VB'),\n",
       " ('up', 'RP'),\n",
       " ('trying', 'VBG'),\n",
       " ('to', 'TO'),\n",
       " ('phone', 'NN'),\n",
       " ('rather', 'RB'),\n",
       " ('than', 'IN'),\n",
       " ('remaining', 'VBG'),\n",
       " ('on', 'IN'),\n",
       " ('hold', 'NN'),\n",
       " ('listening', 'VBG'),\n",
       " ('to', 'TO'),\n",
       " ('music', 'NN'),\n",
       " ('nobody', 'NN'),\n",
       " ('would', 'MD'),\n",
       " ('ever', 'RB'),\n",
       " ('chose', 'VB'),\n",
       " ('for', 'IN'),\n",
       " ('2', 'CD'),\n",
       " ('3', 'CD'),\n",
       " ('hours', 'NNS'),\n",
       " ('and', 'CC'),\n",
       " ('that', 'WDT'),\n",
       " ('cuts', 'VBZ'),\n",
       " ('down', 'RB'),\n",
       " ('I', 'PRP'),\n",
       " ('believe', 'VBP'),\n",
       " ('considerably', 'RB'),\n",
       " ('on', 'IN'),\n",
       " ('customer', 'NN'),\n",
       " ('complaints', 'NNS'),\n",
       " ('Tonight', 'NNP'),\n",
       " ('I', 'PRP'),\n",
       " ('chatted', 'VBD'),\n",
       " ('with', 'IN'),\n",
       " ('two', 'CD'),\n",
       " ('Telus', 'NNP'),\n",
       " ('representatives', 'NNS'),\n",
       " ('online', 'VBP'),\n",
       " ('and', 'CC'),\n",
       " ('neither', 'DT'),\n",
       " ('one', 'CD'),\n",
       " ('could', 'MD'),\n",
       " ('answer', 'VB'),\n",
       " ('a', 'DT'),\n",
       " ('very', 'RB'),\n",
       " ('simple', 'JJ'),\n",
       " ('question', 'NN'),\n",
       " ('regarding', 'VBG'),\n",
       " ('the', 'DT'),\n",
       " ('sudden', 'JJ'),\n",
       " ('disappearance', 'NN'),\n",
       " ('of', 'IN'),\n",
       " ('one', 'CD'),\n",
       " ('channel', 'NN'),\n",
       " ('on', 'IN'),\n",
       " ('my', 'PRP$'),\n",
       " ('optik', 'JJ'),\n",
       " ('tv', 'NN'),\n",
       " ('yes', 'UH'),\n",
       " ('I', 'PRP'),\n",
       " ('know', 'VBP'),\n",
       " ('this', 'DT'),\n",
       " ('sounds', 'VBZ'),\n",
       " ('petty', 'JJ'),\n",
       " ('but', 'CC'),\n",
       " ('I', 'PRP'),\n",
       " ('only', 'RB'),\n",
       " ('watch', 'VBP'),\n",
       " ('2', 'CD'),\n",
       " ('channels', 'NNS'),\n",
       " ('in', 'IN'),\n",
       " ('total', 'JJ'),\n",
       " ('so', 'IN'),\n",
       " ('thats', 'JJ'),\n",
       " ('50', 'CD'),\n",
       " ('%', 'NN'),\n",
       " ('of', 'IN'),\n",
       " ('my', 'PRP$'),\n",
       " ('service', 'NN'),\n",
       " ('I', 'PRP'),\n",
       " ('consider', 'VBP'),\n",
       " ('this', 'DT'),\n",
       " ('lack', 'NN'),\n",
       " ('of', 'IN'),\n",
       " ('service', 'NN'),\n",
       " ('and', 'CC'),\n",
       " ('information', 'NN'),\n",
       " ('a', 'DT'),\n",
       " ('new', 'JJ'),\n",
       " ('ploy', 'NN'),\n",
       " ('of', 'IN'),\n",
       " ('teluss', 'NN'),\n",
       " ('as', 'IN'),\n",
       " ('a', 'DT'),\n",
       " ('way', 'NN'),\n",
       " ('to', 'TO'),\n",
       " ('deter', 'VB'),\n",
       " ('customers', 'NNS'),\n",
       " ('from', 'IN'),\n",
       " ('ever', 'RB'),\n",
       " ('complaining', 'VBG'),\n",
       " ('about', 'IN'),\n",
       " ('anything', 'NN'),\n",
       " ('since', 'IN'),\n",
       " ('one', 'CD'),\n",
       " ('can', 'MD'),\n",
       " ('it', 'PRP'),\n",
       " ('appears', 'VBZ'),\n",
       " ('no', 'RB'),\n",
       " ('longer', 'RBR'),\n",
       " ('get', 'VB'),\n",
       " ('help', 'NN'),\n",
       " ('either', 'CC'),\n",
       " ('by', 'IN'),\n",
       " ('phone', 'NN'),\n",
       " ('or', 'CC'),\n",
       " ('via', 'IN'),\n",
       " ('internet', 'NN'),\n",
       " ('I', 'PRP'),\n",
       " ('imagine', 'VBP'),\n",
       " ('they', 'PRP'),\n",
       " ('also', 'RB'),\n",
       " ('have', 'VBP'),\n",
       " ('every', 'DT'),\n",
       " ('door', 'NN'),\n",
       " ('to', 'TO'),\n",
       " ('both', 'DT'),\n",
       " ('their', 'PRP$'),\n",
       " ('headquarters', 'NN'),\n",
       " ('and', 'CC'),\n",
       " ('every', 'DT'),\n",
       " ('office', 'NN'),\n",
       " ('building', 'NN'),\n",
       " ('they', 'PRP'),\n",
       " ('occupy', 'VBP'),\n",
       " ('bolted', 'VBN'),\n",
       " ('so', 'IN'),\n",
       " ('that', 'IN'),\n",
       " ('no', 'DT'),\n",
       " ('member', 'NN'),\n",
       " ('of', 'IN'),\n",
       " ('the', 'DT'),\n",
       " ('public', 'NN'),\n",
       " ('or', 'CC'),\n",
       " ('especially', 'RB'),\n",
       " ('any', 'DT'),\n",
       " ('customer', 'NN'),\n",
       " ('could', 'MD'),\n",
       " ('ever', 'RB'),\n",
       " ('cross', 'VB'),\n",
       " ('their', 'PRP$'),\n",
       " ('thresholds', 'NNS'),\n",
       " ('Heres', 'VBZ'),\n",
       " ('what', 'WP'),\n",
       " ('I', 'PRP'),\n",
       " ('learned', 'VBD'),\n",
       " ('tonight', 'NN'),\n",
       " ('Telus', 'CC'),\n",
       " ('online', 'JJ'),\n",
       " ('representatives', 'NNS'),\n",
       " ('are', 'VBP'),\n",
       " ('trained', 'VBN'),\n",
       " ('by', 'IN'),\n",
       " ('Bill', 'NNP'),\n",
       " ('Clinton', 'NNP'),\n",
       " ('Although', 'IN'),\n",
       " ('they', 'PRP'),\n",
       " ('are', 'VBP'),\n",
       " ('unable', 'JJ'),\n",
       " ('to', 'TO'),\n",
       " ('help', 'VB'),\n",
       " ('in', 'IN'),\n",
       " ('any', 'DT'),\n",
       " ('way', 'NN'),\n",
       " ('or', 'CC'),\n",
       " ('give', 'VB'),\n",
       " ('any', 'DT'),\n",
       " ('reasons', 'NNS'),\n",
       " ('for', 'IN'),\n",
       " ('why', 'WRB'),\n",
       " ('tv', 'NN'),\n",
       " ('channels', 'NNS'),\n",
       " ('vanish', 'JJ'),\n",
       " ('inexplicably', 'RB'),\n",
       " ('while', 'IN'),\n",
       " ('at', 'IN'),\n",
       " ('the', 'DT'),\n",
       " ('same', 'JJ'),\n",
       " ('time', 'NN'),\n",
       " ('bills', 'NNS'),\n",
       " ('constantly', 'RB'),\n",
       " ('creep', 'VBP'),\n",
       " ('up', 'RP'),\n",
       " ('in', 'IN'),\n",
       " ('price', 'NN'),\n",
       " ('with', 'IN'),\n",
       " ('the', 'DT'),\n",
       " ('passage', 'NN'),\n",
       " ('of', 'IN'),\n",
       " ('time', 'NN'),\n",
       " ('usually', 'RB'),\n",
       " ('very', 'RB'),\n",
       " ('little', 'JJ'),\n",
       " ('time', 'NN'),\n",
       " ('they', 'PRP'),\n",
       " ('feel', 'VBP'),\n",
       " ('your', 'PRP$'),\n",
       " ('pain', 'NN'),\n",
       " ('They', 'PRP'),\n",
       " ('very', 'RB'),\n",
       " ('much', 'JJ'),\n",
       " ('understand', 'IN'),\n",
       " ('your', 'PRP$'),\n",
       " ('frustration', 'NN'),\n",
       " ('and', 'CC'),\n",
       " ('they', 'PRP'),\n",
       " ('are', 'VBP'),\n",
       " ('sorry', 'JJ'),\n",
       " ('about', 'IN'),\n",
       " ('that', 'DT'),\n",
       " ('I', 'PRP'),\n",
       " ('dont', 'VBP'),\n",
       " ('put', 'VB'),\n",
       " ('any', 'DT'),\n",
       " ('blame', 'NN'),\n",
       " ('on', 'IN'),\n",
       " ('the', 'DT'),\n",
       " ('reps', 'NNS'),\n",
       " ('who', 'WP'),\n",
       " ('have', 'VBP'),\n",
       " ('to', 'TO'),\n",
       " ('deal', 'VB'),\n",
       " ('with', 'IN'),\n",
       " ('us', 'PRP'),\n",
       " ('the', 'DT'),\n",
       " ('public', 'JJ'),\n",
       " ('I', 'PRP'),\n",
       " ('blame', 'VBP'),\n",
       " ('the', 'DT'),\n",
       " ('Telus', 'NNP'),\n",
       " ('Corporation', 'NNP'),\n",
       " ('This', 'DT'),\n",
       " ('company', 'NN'),\n",
       " ('despite', 'IN'),\n",
       " ('ever', 'RB'),\n",
       " ('rising', 'VBG'),\n",
       " ('profits', 'NNS'),\n",
       " ('slashes', 'NNS'),\n",
       " ('jobs', 'NNS'),\n",
       " ('while', 'IN'),\n",
       " ('cutting', 'VBG'),\n",
       " ('services', 'NNS'),\n",
       " ('This', 'DT'),\n",
       " ('company', 'NN'),\n",
       " ('does', 'VBZ'),\n",
       " ('not', 'RB'),\n",
       " ('give', 'VB'),\n",
       " ('one', 'CD'),\n",
       " ('hoot', 'NN'),\n",
       " ('about', 'IN'),\n",
       " ('their', 'PRP$'),\n",
       " ('customers', 'NNS'),\n",
       " ('or', 'CC'),\n",
       " ('their', 'PRP$'),\n",
       " ('customers', 'NNS'),\n",
       " ('time', 'NN'),\n",
       " ('if', 'IN'),\n",
       " ('they', 'PRP'),\n",
       " ('try', 'VBP'),\n",
       " ('to', 'TO'),\n",
       " ('contact', 'VB'),\n",
       " ('them', 'PRP'),\n",
       " ('and', 'CC'),\n",
       " ('therefore', 'RB'),\n",
       " ('they', 'PRP'),\n",
       " ('have', 'VBP'),\n",
       " ('rightfully', 'RB'),\n",
       " ('earned', 'VBN'),\n",
       " ('this', 'DT'),\n",
       " ('very', 'RB'),\n",
       " ('negative', 'JJ'),\n",
       " ('post', 'NN'),\n",
       " ('from', 'IN'),\n",
       " ('me', 'PRP'),\n",
       " ('I', 'PRP'),\n",
       " ('am', 'VBP'),\n",
       " ('now', 'RB'),\n",
       " ('waiting', 'VBG'),\n",
       " ('for', 'IN'),\n",
       " ('a', 'DT'),\n",
       " ('phone', 'NN'),\n",
       " ('call', 'NN'),\n",
       " ('from', 'IN'),\n",
       " ('a', 'DT'),\n",
       " ('specialist', 'NN'),\n",
       " ('representative', 'NN'),\n",
       " ('which', 'WDT'),\n",
       " ('I', 'PRP'),\n",
       " ('have', 'VBP'),\n",
       " ('been', 'VBN'),\n",
       " ('told', 'VBN'),\n",
       " ('will', 'MD'),\n",
       " ('come', 'VB'),\n",
       " ('in', 'IN'),\n",
       " ('48', 'CD'),\n",
       " ('72', 'CD'),\n",
       " ('hours', 'NNS'),\n",
       " ('from', 'IN'),\n",
       " ('now', 'RB'),\n",
       " ('Ill', 'NNP'),\n",
       " ('be', 'VB'),\n",
       " ('spending', 'VBG'),\n",
       " ('this', 'DT'),\n",
       " ('time', 'NN'),\n",
       " ('reading', 'NN'),\n",
       " ('and', 'CC'),\n",
       " ('writing', 'VBG'),\n",
       " ('as', 'IN'),\n",
       " ('I', 'PRP'),\n",
       " ('no', 'RB'),\n",
       " ('longer', 'RBR'),\n",
       " ('have', 'VBP'),\n",
       " ('anything', 'NN'),\n",
       " ('left', 'VBN'),\n",
       " ('to', 'TO'),\n",
       " ('watch', 'VB'),\n",
       " ('on', 'IN'),\n",
       " ('TV', 'NN'),\n",
       " ('..', 'NN')]"
      ]
     },
     "execution_count": 150,
     "metadata": {},
     "output_type": "execute_result"
    }
   ],
   "source": [
    "blob.tags"
   ]
  },
  {
   "cell_type": "code",
   "execution_count": 154,
   "metadata": {
    "collapsed": false,
    "scrolled": true
   },
   "outputs": [
    {
     "data": {
      "text/plain": [
       "Sentiment(polarity=-0.12157028619528619, subjectivity=0.4980695045695046)"
      ]
     },
     "execution_count": 154,
     "metadata": {},
     "output_type": "execute_result"
    }
   ],
   "source": [
    "blob.sentiment\n",
    "\n",
    "# Further methods also available: blob.sentiment.polarity, blob.sentiment.subjectivity"
   ]
  },
  {
   "cell_type": "code",
   "execution_count": 214,
   "metadata": {
    "collapsed": true
   },
   "outputs": [],
   "source": [
    "blob2 = textblob.TextBlob(sample2)\n",
    "blob3 = textblob.TextBlob(sample3)"
   ]
  },
  {
   "cell_type": "code",
   "execution_count": 226,
   "metadata": {
    "collapsed": false
   },
   "outputs": [
    {
     "name": "stdout",
     "output_type": "stream",
     "text": [
      "I just spent an hour and a half on a Telus chat looking for some help or for an explanation about optik tv on my account. I chose the chat feature, as its a little quicker than phoning Telus - a phone company that takes between 2-3 hours to answer their phones. Im sure Telus does this on purpose, because most frustrated and/or angry customers simply give up trying to phone rather than remaining on hold (listening to music nobody would ever chose for 2 - 3 hours) and therefore that cuts down (I believe) considerably on customer complaints. Tonight, I chatted with two Telus representatives online and neither one could answer a very simple question regarding the sudden disappearance of one channel on my optik tv. (yes, I know this sounds petty, but I only watch 2 channels in total, so thats 50% of my service.) I consider this lack of service and information a new ploy of teluss as a way to deter customers from ever complaining about anything since one can (it appears) no longer get help either by phone or via internet. I imagine they also have every door to both their headquarters and every office building they occupy bolted, so that no member of the public or especially any customer could ever cross their thresholds.  Heres what I learned tonight: Telus online representatives are trained by Bill Clinton. Although they are unable to help in any way or give any reasons for why tv channels vanish inexplicably, while at the same time, bills constantly creep up in price with the passage of time, (usually very little time) they feel your pain. They very much understand your frustration and they are sorry about that. I dont put any blame on the reps who have to deal with us, the public - I blame the Telus Corporation.  This company despite ever rising profits, slashes jobs while cutting services. This company does not give one hoot about their customers or their customers time if they try to contact them and therefore, they have rightfully earned this very negative post from me. I am now waiting for a phone call from a specialist representative which I have been told will come in 48 - 72 hours from now. Ill be spending this time reading and writing as I no longer have anything left to watch on TV.....\n",
      "\n",
      "\n",
      "\n",
      "just got off the phone with one of your reps and after 15 years of being loyal to Telus, both my husband and I are going to cancel our line and take our business elsewhere. Way to retain your good customers\n",
      "\n",
      "\n",
      "\n",
      "The wifi at the TELUS World of Science does not work. How can you sell internet service if you can't get it work in your own building? And yes, I've contacted you, reset everything, talked to people who work here. Could you please send a truck here?\n"
     ]
    }
   ],
   "source": [
    "print(blob)\n",
    "print('\\n\\n')\n",
    "print(blob2)\n",
    "print('\\n\\n')\n",
    "print(blob3)\n"
   ]
  },
  {
   "cell_type": "code",
   "execution_count": 222,
   "metadata": {
    "collapsed": false
   },
   "outputs": [
    {
     "name": "stdout",
     "output_type": "stream",
     "text": [
      "Sentiment(polarity=-0.12157028619528619, subjectivity=0.4980695045695046)\n",
      "Sentiment(polarity=0.5166666666666666, subjectivity=0.7166666666666668)\n",
      "Sentiment(polarity=0.6, subjectivity=1.0)\n"
     ]
    }
   ],
   "source": [
    "print(blob.sentiment)\n",
    "print(blob2.sentiment)\n",
    "print(blob3.sentiment)"
   ]
  },
  {
   "cell_type": "code",
   "execution_count": 4,
   "metadata": {
    "collapsed": false
   },
   "outputs": [],
   "source": [
    "import nltk"
   ]
  },
  {
   "cell_type": "code",
   "execution_count": 5,
   "metadata": {
    "collapsed": false
   },
   "outputs": [],
   "source": [
    "#nltk.download() # start the download dialog\n",
    "\n",
    "# Command Line version (faster)\n",
    "# sudo python -m nltk.downloader -d /usr/local/share/nltk_data all"
   ]
  },
  {
   "cell_type": "code",
   "execution_count": 1,
   "metadata": {
    "collapsed": false
   },
   "outputs": [
    {
     "data": {
      "text/plain": [
       "['The', 'Fulton', 'County', 'Grand', 'Jury', 'said', ...]"
      ]
     },
     "execution_count": 1,
     "metadata": {},
     "output_type": "execute_result"
    }
   ],
   "source": [
    "from nltk.corpus import brown\n",
    "\n",
    "brown.words()"
   ]
  },
  {
   "cell_type": "code",
   "execution_count": 8,
   "metadata": {
    "collapsed": false,
    "scrolled": false
   },
   "outputs": [],
   "source": [
    "nltk?"
   ]
  },
  {
   "cell_type": "code",
   "execution_count": 282,
   "metadata": {
    "collapsed": false,
    "scrolled": true
   },
   "outputs": [
    {
     "name": "stdout",
     "output_type": "stream",
     "text": [
      "I just spent an hour and a half on a Telus chat looking for some help or for an explanation about optik tv on my account.\n",
      "Sentiment(polarity=-0.13333333333333333, subjectivity=0.13333333333333333)\n",
      "\n",
      "I chose the chat feature, as its a little quicker than phoning Telus - a phone company that takes between 2-3 hours to answer their phones.\n",
      "Sentiment(polarity=-0.1875, subjectivity=0.5)\n",
      "\n",
      "Im sure Telus does this on purpose, because most frustrated and/or angry customers simply give up trying to phone rather than remaining on hold (listening to music nobody would ever chose for 2 - 3 hours) and therefore that cuts down (I believe) considerably on customer complaints.\n",
      "Sentiment(polarity=-0.0365079365079365, subjectivity=0.5264172335600906)\n",
      "\n",
      "Tonight, I chatted with two Telus representatives online and neither one could answer a very simple question regarding the sudden disappearance of one channel on my optik tv.\n",
      "Sentiment(polarity=0.0, subjectivity=0.48214285714285715)\n",
      "\n",
      "(yes, I know this sounds petty, but I only watch 2 channels in total, so thats 50% of my service.)\n",
      "Sentiment(polarity=0.0, subjectivity=0.875)\n",
      "\n",
      "I consider this lack of service and information a new ploy of teluss as a way to deter customers from ever complaining about anything since one can (it appears) no longer get help either by phone or via internet.\n",
      "Sentiment(polarity=0.13636363636363635, subjectivity=0.45454545454545453)\n",
      "\n",
      "I imagine they also have every door to both their headquarters and every office building they occupy bolted, so that no member of the public or especially any customer could ever cross their thresholds.\n",
      "Sentiment(polarity=0.0, subjectivity=0.35555555555555557)\n",
      "\n",
      "Heres what I learned tonight: Telus online representatives are trained by Bill Clinton.\n",
      "Sentiment(polarity=0.0, subjectivity=0.0)\n",
      "\n",
      "Although they are unable to help in any way or give any reasons for why tv channels vanish inexplicably, while at the same time, bills constantly creep up in price with the passage of time, (usually very little time) they feel your pain.\n",
      "Sentiment(polarity=-0.26875, subjectivity=0.5016666666666667)\n",
      "\n",
      "They very much understand your frustration and they are sorry about that.\n",
      "Sentiment(polarity=-0.12, subjectivity=0.63)\n",
      "\n",
      "I dont put any blame on the reps who have to deal with us, the public - I blame the Telus Corporation.\n",
      "Sentiment(polarity=0.0, subjectivity=0.06666666666666667)\n",
      "\n",
      "This company despite ever rising profits, slashes jobs while cutting services.\n",
      "Sentiment(polarity=-0.6, subjectivity=0.9)\n",
      "\n",
      "This company does not give one hoot about their customers or their customers time if they try to contact them and therefore, they have rightfully earned this very negative post from me.\n",
      "Sentiment(polarity=-0.39, subjectivity=0.52)\n",
      "\n",
      "I am now waiting for a phone call from a specialist representative which I have been told will come in 48 - 72 hours from now.\n",
      "Sentiment(polarity=0.0, subjectivity=0.0)\n",
      "\n",
      "Ill be spending this time reading and writing as I no longer have anything left to watch on TV.....\n",
      "Sentiment(polarity=-0.25, subjectivity=0.5)\n",
      "\n",
      "just got off the phone with one of your reps and after 15 years of being loyal to Telus, both my husband and I are going to cancel our line and take our business elsewhere.\n",
      "Sentiment(polarity=0.3333333333333333, subjectivity=0.8333333333333334)\n",
      "\n",
      "Way to retain your good customers\n",
      "Sentiment(polarity=0.7, subjectivity=0.6000000000000001)\n",
      "\n",
      "The wifi at the TELUS World of Science does not work.\n",
      "Sentiment(polarity=0.0, subjectivity=0.0)\n",
      "\n",
      "How can you sell internet service if you can't get it work in your own building?\n",
      "Sentiment(polarity=0.6, subjectivity=1.0)\n",
      "\n",
      "And yes, I've contacted you, reset everything, talked to people who work here.\n",
      "Sentiment(polarity=0.0, subjectivity=0.0)\n",
      "\n",
      "Could you please send a truck here?\n",
      "Sentiment(polarity=0.0, subjectivity=0.0)\n",
      "\n"
     ]
    }
   ],
   "source": [
    "sentiment_range = []\n",
    "subjectivity_range = []\n",
    "count = len(blob.sentences)\n",
    "\n",
    "\n",
    "\n",
    "def sentencesentiment(blob):\n",
    "    for sentence in blob.sentences:\n",
    "        print(sentence)\n",
    "        print(sentence.sentiment)\n",
    "        print('')\n",
    "    \n",
    "sentencesentiment(blob)\n",
    "sentencesentiment(blob2)\n",
    "sentencesentiment(blob3)"
   ]
  },
  {
   "cell_type": "code",
   "execution_count": null,
   "metadata": {
    "collapsed": true
   },
   "outputs": [],
   "source": []
  },
  {
   "cell_type": "code",
   "execution_count": 232,
   "metadata": {
    "collapsed": false
   },
   "outputs": [
    {
     "data": {
      "text/plain": [
       "[{'end_index': 172,\n",
       "  'noun_phrases': WordList(['telus']),\n",
       "  'polarity': 0.3333333333333333,\n",
       "  'raw': 'just got off the phone with one of your reps and after 15 years of being loyal to Telus, both my husband and I are going to cancel our line and take our business elsewhere.',\n",
       "  'start_index': 0,\n",
       "  'stripped': 'just got off the phone with one of your reps and after 15 years of being loyal to telus both my husband and i are going to cancel our line and take our business elsewhere',\n",
       "  'subjectivity': 0.8333333333333334},\n",
       " {'end_index': 206,\n",
       "  'noun_phrases': WordList(['good customers']),\n",
       "  'polarity': 0.7,\n",
       "  'raw': 'Way to retain your good customers',\n",
       "  'start_index': 173,\n",
       "  'stripped': 'way to retain your good customers',\n",
       "  'subjectivity': 0.6000000000000001}]"
      ]
     },
     "execution_count": 232,
     "metadata": {},
     "output_type": "execute_result"
    }
   ],
   "source": [
    "blob2.wordl"
   ]
  },
  {
   "cell_type": "code",
   "execution_count": 206,
   "metadata": {
    "collapsed": false,
    "scrolled": true
   },
   "outputs": [
    {
     "name": "stdout",
     "output_type": "stream",
     "text": [
      "[-0.6, -0.39, -0.26875, -0.25, -0.1875, -0.13333333333333333, -0.12, -0.0365079365079365, 0.0, 0.0, 0.0, 0.0, 0.13636363636363635]\n",
      "[-0.6, -0.39, -0.26875, -0.25, -0.1875, -0.13333333333333333, -0.12, -0.0365079365079365, 0.13636363636363635]\n",
      "-0.20552529260862595\n"
     ]
    }
   ],
   "source": [
    "import functools\n",
    "\n",
    "print(sentiment_average)\n",
    "sentiment_average.sort()\n",
    "\n",
    "sentiment_range = [x for x in sentiment_average if x != 0.0]\n",
    "print(sentiment_range)\n",
    "\n",
    "\n",
    "print(functools.reduce(lambda x, y: x + y, sentiment_range) / len(sentiment_range))"
   ]
  },
  {
   "cell_type": "code",
   "execution_count": 93,
   "metadata": {
    "collapsed": false,
    "scrolled": false
   },
   "outputs": [
    {
     "name": "stdout",
     "output_type": "stream",
     "text": [
      "paging corresponds with {'next': 'https://graph.facebook.com/v2.0/633359826695331/feed?access_token=CAACEdEose0cBAPR265Pb3khZAO4eoaOATjr1ZACgA6OXNthNLl4kI6sOdejJWU3oBeznhK3SDWbBzwWfk3zJRIMiYP0LUpc0nRhlrTMVAvdu7dLsDpZAZAAwzUlQNreve9Bc2r4EhtSS6iZCzzrroKwZAfXwDTXdmUbOREPX2neOkh58dmkR3sfwKewiQdkhgIBJR8dO9YEAZDZD&limit=25&until=1384906663&__paging_token=enc_AdA6h4LCgp9pBhUr8Vgk4iKWHZCYy6obcpsuZCZArOYYh64xridjnQbCgAHq0ylyyBLGpsD7o2o3iNZByZCkjXu9pLzXs91K7b77f0apUeZCIgONzIlgZDZD', 'previous': 'https://graph.facebook.com/v2.0/633359826695331/feed?since=1459346672&access_token=CAACEdEose0cBAPR265Pb3khZAO4eoaOATjr1ZACgA6OXNthNLl4kI6sOdejJWU3oBeznhK3SDWbBzwWfk3zJRIMiYP0LUpc0nRhlrTMVAvdu7dLsDpZAZAAwzUlQNreve9Bc2r4EhtSS6iZCzzrroKwZAfXwDTXdmUbOREPX2neOkh58dmkR3sfwKewiQdkhgIBJR8dO9YEAZDZD&limit=25&__paging_token=enc_AdDpJR5G2ydEjabtKWpPZBt102XixD1vVR4MsQXn5jFfSc9uXsuqglq5JDXiAZAdZApAsxWF89CHSol3opBGtV2bZB9tqjsfXN5YycEITTml08McYQZDZD&__previous=1'}\n",
      "data corresponds with [{'from': {'id': '10153046308598756', 'name': 'Vivek Menon'}, 'id': '633359826695331_1137030299661612', 'created_time': '2016-03-30T14:04:32+0000', 'status_type': 'wall_post', 'to': {'data': [{'category': 'Retail and Consumer Merchandise', 'id': '633359826695331', 'name': 'Twist Test Page'}]}, 'updated_time': '2016-03-30T14:04:32+0000', 'type': 'status', 'message': 'Test.', 'privacy': {'deny': '', 'friends': '', 'allow': '', 'description': '', 'value': ''}, 'actions': [{'link': 'https://www.facebook.com/633359826695331/posts/1137030299661612', 'name': 'Comment'}, {'link': 'https://www.facebook.com/633359826695331/posts/1137030299661612', 'name': 'Like'}], 'is_hidden': False, 'subscribed': True, 'is_expired': False}, {'from': {'id': '982842985104023', 'name': 'Young Padawan'}, 'id': '633359826695331_824815317549780', 'created_time': '2014-09-16T19:21:57+0000', 'status_type': 'wall_post', 'to': {'data': [{'category': 'Retail and Consumer Merchandise', 'id': '633359826695331', 'name': 'Twist Test Page'}]}, 'updated_time': '2014-09-16T19:21:57+0000', 'type': 'status', 'message': 'how do these internets?', 'privacy': {'deny': '', 'friends': '', 'allow': '', 'description': '', 'value': ''}, 'actions': [{'link': 'https://www.facebook.com/633359826695331/posts/824815317549780', 'name': 'Comment'}, {'link': 'https://www.facebook.com/633359826695331/posts/824815317549780', 'name': 'Like'}], 'is_hidden': False, 'subscribed': True, 'is_expired': False}, {'link': 'https://www.facebook.com/633359826695331/photos/a.666106900087290.1073741828.633359826695331/719383644759615/?type=3', 'from': {'category': 'Retail and Consumer Merchandise', 'id': '633359826695331', 'name': 'Twist Test Page'}, 'id': '633359826695331_719383731426273', 'icon': 'https://www.facebook.com/images/icons/photo.gif', 'is_hidden': False, 'story': 'Twist Test Page added 3 new photos.', 'picture': 'https://scontent.xx.fbcdn.net/hphotos-xaf1/v/t1.0-0/p130x130/1795545_719383644759615_59805480_n.png?oh=817319ba1debd1a835d74766c889c713&oe=577C8830', 'status_type': 'added_photos', 'created_time': '2014-02-28T18:58:02+0000', 'type': 'photo', 'message': 'TESTING', 'privacy': {'deny': '', 'friends': '', 'allow': '', 'description': 'English (UK), English (US)', 'value': 'CUSTOM'}, 'updated_time': '2014-02-28T18:58:02+0000', 'name': \"Photos from Twist Test Page's post\", 'actions': [{'link': 'https://www.facebook.com/633359826695331/posts/719383731426273', 'name': 'Comment'}, {'link': 'https://www.facebook.com/633359826695331/posts/719383731426273', 'name': 'Like'}], 'object_id': '719383644759615', 'story_tags': {'0': [{'type': 'page', 'length': 15, 'id': '633359826695331', 'offset': 0, 'name': 'Twist Test Page'}]}, 'subscribed': True, 'is_expired': False}, {'link': 'https://www.facebook.com/633359826695331/photos/a.666106900087290.1073741828.633359826695331/697985590232754/?type=3', 'from': {'category': 'Retail and Consumer Merchandise', 'id': '633359826695331', 'name': 'Twist Test Page'}, 'id': '633359826695331_697986546899325', 'icon': 'https://www.facebook.com/images/icons/photo.gif', 'created_time': '2014-01-17T19:47:18+0000', 'picture': 'https://scontent.xx.fbcdn.net/hphotos-frc3/v/t1.0-0/p130x130/1012251_697985590232754_1397900020_n.jpg?oh=781fa20cc1ccfb772b823f8aa344e027&oe=5773BD98', 'status_type': 'added_photos', 'updated_time': '2014-01-17T19:47:18+0000', 'type': 'photo', 'message': 'Winter can make hair as unpredictable as the weather! What’s your foolproof winter hairstyle? \\r\\nA.\\tPonytail\\r\\nB.\\tBun\\r\\nC.\\tBraid\\r\\nD.\\tJust go with it', 'privacy': {'deny': '', 'friends': '', 'allow': '', 'description': 'Anyone who can see this Page', 'value': 'EVERYONE'}, 'name': 'Timeline Photos', 'actions': [{'link': 'https://www.facebook.com/633359826695331/posts/697986546899325', 'name': 'Comment'}, {'link': 'https://www.facebook.com/633359826695331/posts/697986546899325', 'name': 'Like'}], 'object_id': '697985590232754', 'is_hidden': False, 'subscribed': True, 'is_expired': False}, {'link': 'https://www.facebook.com/633359826695331/photos/a.666106900087290.1073741828.633359826695331/697985486899431/?type=3', 'from': {'category': 'Retail and Consumer Merchandise', 'id': '633359826695331', 'name': 'Twist Test Page'}, 'id': '633359826695331_697986540232659', 'icon': 'https://www.facebook.com/images/icons/photo.gif', 'created_time': '2014-01-17T19:47:18+0000', 'picture': 'https://scontent.xx.fbcdn.net/hphotos-xpa1/v/t1.0-0/p130x130/8192_697985486899431_1179382110_n.jpg?oh=bb8a37d5af78c3f29b5fe7039aac62d9&oe=5787C0BE', 'status_type': 'added_photos', 'updated_time': '2014-01-17T19:47:18+0000', 'type': 'photo', 'message': 'Salt and slush can do a number on your car. Do you try to keep your car spotless during the Winter or wait until Spring for a clean up?', 'privacy': {'deny': '', 'friends': '', 'allow': '', 'description': 'Anyone who can see this Page', 'value': 'EVERYONE'}, 'name': 'Timeline Photos', 'actions': [{'link': 'https://www.facebook.com/633359826695331/posts/697986540232659', 'name': 'Comment'}, {'link': 'https://www.facebook.com/633359826695331/posts/697986540232659', 'name': 'Like'}], 'object_id': '697985486899431', 'is_hidden': False, 'subscribed': True, 'is_expired': False}, {'link': 'https://www.facebook.com/633359826695331/photos/a.666106900087290.1073741828.633359826695331/697985870232726/?type=3', 'from': {'category': 'Retail and Consumer Merchandise', 'id': '633359826695331', 'name': 'Twist Test Page'}, 'id': '633359826695331_697986536899326', 'icon': 'https://www.facebook.com/images/icons/photo.gif', 'created_time': '2014-01-17T19:47:18+0000', 'picture': 'https://scontent.xx.fbcdn.net/hphotos-xap1/v/t1.0-0/p130x130/1606929_697985870232726_1849219949_n.jpg?oh=f40c25cc20dd7fa539b4ccafdfd484c1&oe=57955DDA', 'status_type': 'added_photos', 'updated_time': '2014-01-17T19:47:18+0000', 'type': 'photo', 'message': 'What’s the best part of watching the Superbowl? The game, the ads, or the half-time show?', 'privacy': {'deny': '', 'friends': '', 'allow': '', 'description': 'Anyone who can see this Page', 'value': 'EVERYONE'}, 'name': 'Timeline Photos', 'actions': [{'link': 'https://www.facebook.com/633359826695331/posts/697986536899326', 'name': 'Comment'}, {'link': 'https://www.facebook.com/633359826695331/posts/697986536899326', 'name': 'Like'}], 'object_id': '697985870232726', 'is_hidden': False, 'subscribed': True, 'is_expired': False}, {'link': 'https://www.facebook.com/633359826695331/photos/a.666106900087290.1073741828.633359826695331/697986226899357/?type=3', 'from': {'category': 'Retail and Consumer Merchandise', 'id': '633359826695331', 'name': 'Twist Test Page'}, 'id': '633359826695331_697986543565992', 'icon': 'https://www.facebook.com/images/icons/photo.gif', 'created_time': '2014-01-17T19:47:18+0000', 'picture': 'https://scontent.xx.fbcdn.net/hphotos-xat1/v/t1.0-0/p130x130/1506912_697986226899357_4685070_n.jpg?oh=c38194eb34915c1470e3fcf3dd8ff353&oe=5776499B', 'status_type': 'added_photos', 'updated_time': '2014-01-17T19:47:18+0000', 'type': 'photo', 'message': 'Pick your pop. Choose your chip. Score big savings!\\r\\nWhat’s your perfect Superbowl combination?', 'privacy': {'deny': '', 'friends': '', 'allow': '', 'description': 'Anyone who can see this Page', 'value': 'EVERYONE'}, 'name': 'Timeline Photos', 'actions': [{'link': 'https://www.facebook.com/633359826695331/posts/697986543565992', 'name': 'Comment'}, {'link': 'https://www.facebook.com/633359826695331/posts/697986543565992', 'name': 'Like'}], 'object_id': '697986226899357', 'is_hidden': False, 'subscribed': True, 'is_expired': False}, {'link': 'https://www.facebook.com/633359826695331/photos/a.666106900087290.1073741828.633359826695331/697986316899348/?type=3', 'from': {'category': 'Retail and Consumer Merchandise', 'id': '633359826695331', 'name': 'Twist Test Page'}, 'id': '633359826695331_697986550232658', 'icon': 'https://www.facebook.com/images/icons/photo.gif', 'created_time': '2014-01-17T19:47:18+0000', 'picture': 'https://scontent.xx.fbcdn.net/hphotos-xap1/v/t1.0-0/p130x130/1524723_697986316899348_420042020_n.jpg?oh=3c621ed443f0afa2ffe4b2ad062bef6b&oe=57772266', 'status_type': 'added_photos', 'updated_time': '2014-01-17T19:47:18+0000', 'type': 'photo', 'message': 'What’s the best part of Old Spice’s new hair care line?\\r\\n1.\\tYour hair smells like a superhero\\r\\n2.\\tWashing away that stubborn ninja sweat\\r\\n3.\\tGiving each strand of hair a mini six-pack\\r\\n4.\\tAll of the above', 'privacy': {'deny': '', 'friends': '', 'allow': '', 'description': 'Anyone who can see this Page', 'value': 'EVERYONE'}, 'name': 'Timeline Photos', 'actions': [{'link': 'https://www.facebook.com/633359826695331/posts/697986550232658', 'name': 'Comment'}, {'link': 'https://www.facebook.com/633359826695331/posts/697986550232658', 'name': 'Like'}], 'object_id': '697986316899348', 'is_hidden': False, 'subscribed': True, 'is_expired': False}, {'link': 'http://wmc.tw/1d8ALlT', 'from': {'category': 'Retail and Consumer Merchandise', 'id': '633359826695331', 'name': 'Twist Test Page'}, 'id': '633359826695331_685248841506429', 'icon': 'https://www.facebook.com/images/icons/post.gif', 'created_time': '2013-12-25T18:56:12+0000', 'picture': 'https://external.xx.fbcdn.net/safe_image.php?d=AQB7vwV1FCeLvd6i&w=130&h=130&url=fbstaging%3A%2F%2Fgraph.facebook.com%2Fstaging_resources%2FMDE2ODUyNDg4MzQ4Mzk3NjM6MjA2NjM4NzQ1NA%3D%3D&cfs=1', 'status_type': 'shared_story', 'subscribed': True, 'updated_time': '2013-12-25T18:56:12+0000', 'type': 'link', 'message': 'Think you missed all the best deals yesterday? Think again, we’ve got Boxing Week deals until December 31st in-store and at Walmart.ca. Take a look! ', 'privacy': {'deny': '', 'friends': '', 'allow': '', 'description': 'Anyone who can see this Page', 'value': 'EVERYONE'}, 'name': 'Boxing Week is on now!', 'caption': 'Walmart.ca/BoxingWeek', 'actions': [{'link': 'https://www.facebook.com/633359826695331/posts/685248841506429', 'name': 'Comment'}, {'link': 'https://www.facebook.com/633359826695331/posts/685248841506429', 'name': 'Like'}], 'is_hidden': False, 'description': 'Find big deals on your favourite items!', 'is_expired': False}, {'link': 'http://wmc.tw/1d8AK1i', 'from': {'category': 'Retail and Consumer Merchandise', 'id': '633359826695331', 'name': 'Twist Test Page'}, 'id': '633359826695331_685248304839816', 'icon': 'https://www.facebook.com/images/icons/post.gif', 'created_time': '2013-12-25T18:56:12+0000', 'picture': 'https://external.xx.fbcdn.net/safe_image.php?d=AQBH5IJOzDDcpXvc&w=130&h=130&url=fbstaging%3A%2F%2Fgraph.facebook.com%2Fstaging_resources%2FMDE2ODUyNDgyMzQ4Mzk4MjM6NTU0MzM4MzM%3D&cfs=1', 'status_type': 'shared_story', 'subscribed': True, 'updated_time': '2013-12-25T18:56:12+0000', 'type': 'link', 'message': 'Boxing Week is here! Enjoy huge savings on tons of electronics in-store and online. Is there anything on your Boxing Week wish list?', 'privacy': {'deny': '', 'friends': '', 'allow': '', 'description': 'Anyone who can see this Page', 'value': 'EVERYONE'}, 'name': 'Boxing Week is on now!', 'caption': 'Walmart.ca/BoxingWeek', 'actions': [{'link': 'https://www.facebook.com/633359826695331/posts/685248304839816', 'name': 'Comment'}, {'link': 'https://www.facebook.com/633359826695331/posts/685248304839816', 'name': 'Like'}], 'is_hidden': False, 'description': 'Find big deals on your favourite items!', 'is_expired': False}, {'link': 'https://www.facebook.com/633359826695331/photos/a.666106900087290.1073741828.633359826695331/680814791949834/?type=3', 'from': {'category': 'Retail and Consumer Merchandise', 'id': '633359826695331', 'name': 'Twist Test Page'}, 'id': '633359826695331_680815088616471', 'icon': 'https://www.facebook.com/images/icons/photo.gif', 'created_time': '2013-12-16T19:36:57+0000', 'picture': 'https://scontent.xx.fbcdn.net/hphotos-xpf1/v/t1.0-0/p130x130/1506005_680814791949834_668319858_n.jpg?oh=000f22d90199070469d790ae22e30e41&oe=57C0B926', 'status_type': 'added_photos', 'updated_time': '2013-12-16T19:36:57+0000', 'type': 'photo', 'message': 'What’s your Christmas playlist style?', 'privacy': {'deny': '', 'friends': '', 'allow': '', 'description': 'Anyone who can see this Page', 'value': 'EVERYONE'}, 'name': 'Timeline Photos', 'actions': [{'link': 'https://www.facebook.com/633359826695331/posts/680815088616471', 'name': 'Comment'}, {'link': 'https://www.facebook.com/633359826695331/posts/680815088616471', 'name': 'Like'}], 'object_id': '680814791949834', 'is_hidden': False, 'subscribed': True, 'is_expired': False}, {'link': 'https://www.facebook.com/633359826695331/photos/a.666106900087290.1073741828.633359826695331/678939858803994/?type=3', 'from': {'category': 'Retail and Consumer Merchandise', 'id': '633359826695331', 'name': 'Twist Test Page'}, 'id': '633359826695331_678940402137273', 'icon': 'https://www.facebook.com/images/icons/photo.gif', 'created_time': '2013-12-13T15:42:01+0000', 'picture': 'https://scontent.xx.fbcdn.net/hphotos-xpl1/v/t1.0-0/p130x130/1511213_678939858803994_2094802979_n.jpg?oh=cf42f0b05abfe7793aa275affb4df0fc&oe=5794EEC0', 'status_type': 'added_photos', 'updated_time': '2013-12-13T15:42:01+0000', 'type': 'photo', 'message': 'Hey moms, which toy do you think your baby will enjoy playing with the most?\\r\\n\\r\\nThey’re all super cute for a baby’s first Christmas!', 'privacy': {'deny': '', 'friends': '', 'allow': '', 'description': 'Anyone who can see this Page', 'value': 'EVERYONE'}, 'name': 'Timeline Photos', 'actions': [{'link': 'https://www.facebook.com/633359826695331/posts/678940402137273', 'name': 'Comment'}, {'link': 'https://www.facebook.com/633359826695331/posts/678940402137273', 'name': 'Like'}], 'object_id': '678939858803994', 'is_hidden': False, 'subscribed': True, 'is_expired': False}, {'link': 'https://www.facebook.com/633359826695331/photos/a.666106900087290.1073741828.633359826695331/678573805507266/?type=3', 'from': {'category': 'Retail and Consumer Merchandise', 'id': '633359826695331', 'name': 'Twist Test Page'}, 'id': '633359826695331_678573872173926', 'icon': 'https://www.facebook.com/images/icons/photo.gif', 'created_time': '2013-12-12T21:08:29+0000', 'picture': 'https://scontent.xx.fbcdn.net/hphotos-xlp1/v/t1.0-0/p130x130/1470080_678573805507266_47930177_n.jpg?oh=0c5fb37768dff5cf817dc78c5775588f&oe=5780444C', 'status_type': 'added_photos', 'updated_time': '2013-12-12T21:08:29+0000', 'type': 'photo', 'message': 'Hey moms, what do you think your baby will enjoy playing with more?\\r\\n\\r\\nThese toys or wrapping paper?', 'privacy': {'deny': '', 'friends': '', 'allow': '', 'description': 'Anyone who can see this Page', 'value': 'EVERYONE'}, 'name': 'Timeline Photos', 'actions': [{'link': 'https://www.facebook.com/633359826695331/posts/678573872173926', 'name': 'Comment'}, {'link': 'https://www.facebook.com/633359826695331/posts/678573872173926', 'name': 'Like'}], 'object_id': '678573805507266', 'is_hidden': False, 'subscribed': True, 'is_expired': False}, {'link': 'https://www.facebook.com/633359826695331/photos/a.666106900087290.1073741828.633359826695331/678573385507308/?type=3', 'from': {'category': 'Retail and Consumer Merchandise', 'id': '633359826695331', 'name': 'Twist Test Page'}, 'id': '633359826695331_678573652173948', 'icon': 'https://www.facebook.com/images/icons/photo.gif', 'created_time': '2013-12-12T21:08:03+0000', 'picture': 'https://scontent.xx.fbcdn.net/hphotos-xap1/v/t1.0-0/p130x130/1463652_678573385507308_2066421254_n.jpg?oh=418130aae4ab530e07aef6d8c7c433f9&oe=5787DE5B', 'status_type': 'added_photos', 'updated_time': '2013-12-12T21:08:03+0000', 'type': 'photo', 'message': 'Hey moms, what do you think your baby will enjoy playing with more?\\r\\n\\r\\nThese toys or wrapping paper?', 'privacy': {'deny': '', 'friends': '', 'allow': '', 'description': 'Anyone who can see this Page', 'value': 'EVERYONE'}, 'name': 'Timeline Photos', 'actions': [{'link': 'https://www.facebook.com/633359826695331/posts/678573652173948', 'name': 'Comment'}, {'link': 'https://www.facebook.com/633359826695331/posts/678573652173948', 'name': 'Like'}], 'object_id': '678573385507308', 'is_hidden': False, 'subscribed': True, 'is_expired': False}, {'link': 'https://www.facebook.com/633359826695331/photos/a.666106900087290.1073741828.633359826695331/673902182641095/?type=3', 'from': {'category': 'Retail and Consumer Merchandise', 'id': '633359826695331', 'name': 'Twist Test Page'}, 'id': '633359826695331_673902192641094', 'icon': 'https://www.facebook.com/images/icons/photo.gif', 'created_time': '2013-12-03T14:53:43+0000', 'picture': 'https://scontent.xx.fbcdn.net/hphotos-xap1/v/t1.0-0/p130x130/1460170_673902182641095_1413602033_n.png?oh=e1c4643d1ff935ca6ca87ba59a402a83&oe=578F1E61', 'status_type': 'added_photos', 'updated_time': '2013-12-03T14:54:20+0000', 'type': 'photo', 'message': \"You've made the list and checked it twice, now it's time to go pick up some toys that are realllllly nice! \\n\\nAre you still shopping for toys on your kids' Christmas lists?\", 'privacy': {'deny': '', 'friends': '', 'allow': '', 'description': 'Anyone who can see this Page', 'value': 'EVERYONE'}, 'name': 'Timeline Photos', 'actions': [{'link': 'https://www.facebook.com/633359826695331/posts/673902192641094', 'name': 'Comment'}, {'link': 'https://www.facebook.com/633359826695331/posts/673902192641094', 'name': 'Like'}], 'object_id': '673902182641095', 'is_hidden': False, 'subscribed': True, 'is_expired': False}, {'link': 'http://walmart.ca/', 'from': {'category': 'Retail and Consumer Merchandise', 'id': '633359826695331', 'name': 'Twist Test Page'}, 'id': '633359826695331_671859016178745', 'icon': 'https://www.facebook.com/images/icons/post.gif', 'created_time': '2013-11-29T20:28:22+0000', 'picture': 'https://external.xx.fbcdn.net/safe_image.php?d=AQCARq5_XbbyYFYl&w=130&h=130&url=fbstaging%3A%2F%2Fgraph.facebook.com%2Fstaging_resources%2FMDE2NzE4NTg5OTk1MTIwODA6MjAxNDg3MDE2Ng%3D%3D&cfs=1&sx=277&sy=0&sw=627&sh=627', 'status_type': 'shared_story', 'subscribed': True, 'updated_time': '2013-11-29T20:28:22+0000', 'type': 'link', 'message': 'Which toy are the kids in Quebec City wishing for this Christmas?', 'privacy': {'deny': '', 'friends': '', 'allow': '', 'description': 'Anyone who can see this Page', 'value': 'EVERYONE'}, 'name': 'The Barbie Luxury Mansion!', 'caption': 'walmart.ca/barbie-mansion', 'actions': [{'link': 'https://www.facebook.com/633359826695331/posts/671859016178745', 'name': 'Comment'}, {'link': 'https://www.facebook.com/633359826695331/posts/671859016178745', 'name': 'Like'}], 'is_hidden': False, 'description': 'Watch their faces light up Christmas morning! Get the the Barbie Luxury Mansion today at Walmart.ca', 'is_expired': False}, {'link': 'http://walmart.ca/', 'from': {'category': 'Retail and Consumer Merchandise', 'id': '633359826695331', 'name': 'Twist Test Page'}, 'id': '633359826695331_671858386178808', 'icon': 'https://www.facebook.com/images/icons/post.gif', 'created_time': '2013-11-29T20:28:22+0000', 'picture': 'https://external.xx.fbcdn.net/safe_image.php?d=AQC5YwwCZlO3-a-O&w=130&h=130&url=fbstaging%3A%2F%2Fgraph.facebook.com%2Fstaging_resources%2FMDE2NzE4NTgzNzk1MTIxNDI6MTc5MjUzNzg3Mw%3D%3D&cfs=1', 'status_type': 'shared_story', 'subscribed': True, 'updated_time': '2013-11-29T20:28:22+0000', 'type': 'link', 'message': 'All the kids in Whitby are asking Santa for the LeapPad Ultra this Christmas! ', 'privacy': {'deny': '', 'friends': '', 'allow': '', 'description': 'Anyone who can see this Page', 'value': 'EVERYONE'}, 'name': 'Make Their Wishes Come True!', 'caption': 'walmart.ca/LeapPad-Ultra', 'actions': [{'link': 'https://www.facebook.com/633359826695331/posts/671858386178808', 'name': 'Comment'}, {'link': 'https://www.facebook.com/633359826695331/posts/671858386178808', 'name': 'Like'}], 'is_hidden': False, 'description': 'Watch their faces light up Christmas morning! Get the LeapPad Ultra today at Walmart.ca ', 'is_expired': False}, {'link': 'http://walmart.ca/', 'from': {'category': 'Retail and Consumer Merchandise', 'id': '633359826695331', 'name': 'Twist Test Page'}, 'id': '633359826695331_671860882845225', 'icon': 'https://www.facebook.com/images/icons/post.gif', 'created_time': '2013-11-29T20:28:22+0000', 'picture': 'https://external.xx.fbcdn.net/safe_image.php?d=AQDoAKWylcVJScN5&w=130&h=130&url=fbstaging%3A%2F%2Fgraph.facebook.com%2Fstaging_resources%2FMDE2NzE4NjA4Njk1MTE4OTM6MjAyNTkxNDk4Nw%3D%3D&cfs=1', 'status_type': 'shared_story', 'subscribed': True, 'updated_time': '2013-11-29T20:28:22+0000', 'type': 'link', 'message': 'All the kids in Port Alberni have this awesome toy on their holiday wish list…', 'privacy': {'deny': '', 'friends': '', 'allow': '', 'description': 'Anyone who can see this Page', 'value': 'EVERYONE'}, 'name': 'The Fun and Interactive Furby Boom!', 'caption': 'walmart.ca/furby-boom', 'actions': [{'link': 'https://www.facebook.com/633359826695331/posts/671860882845225', 'name': 'Comment'}, {'link': 'https://www.facebook.com/633359826695331/posts/671860882845225', 'name': 'Like'}], 'is_hidden': False, 'description': 'Watch their faces light up Christmas morning! Get the Fun and Interactive Furby Boom today at Walmart.ca', 'is_expired': False}, {'link': 'https://www.facebook.com/633359826695331/photos/a.666106900087290.1073741828.633359826695331/671854499512530/?type=3', 'from': {'category': 'Retail and Consumer Merchandise', 'id': '633359826695331', 'name': 'Twist Test Page'}, 'id': '633359826695331_671854569512523', 'icon': 'https://www.facebook.com/images/icons/photo.gif', 'created_time': '2013-11-29T20:09:53+0000', 'picture': 'https://scontent.xx.fbcdn.net/hphotos-xpt1/v/t1.0-0/p130x130/1483308_671854499512530_1963272917_n.png?oh=c21e495ff624b2e5fb61faafe5077ea1&oe=577393A4', 'status_type': 'added_photos', 'updated_time': '2013-11-29T20:09:53+0000', 'type': 'photo', 'message': 'Only a few days to go until Christmas! Visit a Walmart location near you for our Top 20 Toys, selected by the outstanding kids and moms at our Toy Testers event!', 'privacy': {'deny': '', 'friends': '', 'allow': '', 'description': 'Anyone who can see this Page', 'value': 'EVERYONE'}, 'name': 'Timeline Photos', 'actions': [{'link': 'https://www.facebook.com/633359826695331/posts/671854569512523', 'name': 'Comment'}, {'link': 'https://www.facebook.com/633359826695331/posts/671854569512523', 'name': 'Like'}], 'object_id': '671854499512530', 'is_hidden': False, 'subscribed': True, 'is_expired': False}, {'link': 'http://wmc.tw/IhcheF', 'from': {'category': 'Retail and Consumer Merchandise', 'id': '633359826695331', 'name': 'Twist Test Page'}, 'id': '633359826695331_670302756334371', 'icon': 'https://www.facebook.com/images/icons/post.gif', 'created_time': '2013-11-26T23:34:28+0000', 'picture': 'https://external.xx.fbcdn.net/safe_image.php?d=AQBfgY0PiEfT45F3&w=130&h=130&url=fbstaging%3A%2F%2Fgraph.facebook.com%2Fstaging_resources%2FMDE2NzAzMDI3NDYzMzQzNzI6NDQ4NzkyOTIw&cfs=1&l', 'status_type': 'shared_story', 'subscribed': True, 'updated_time': '2013-11-26T23:34:28+0000', 'type': 'link', 'message': 'At #15, it’s the Go! Go! Smart Wheels Train Station, #14, the Boom Boom Balloon, and #13, the LeapPad Ultra. ', 'privacy': {'deny': '', 'friends': '', 'allow': '', 'description': 'Anyone who can see this Page', 'value': 'EVERYONE'}, 'name': 'Our Christmas Countdown is in full swing!', 'caption': 'walmart.ca/top-20-toys', 'actions': [{'link': 'https://www.facebook.com/633359826695331/posts/670302756334371', 'name': 'Comment'}, {'link': 'https://www.facebook.com/633359826695331/posts/670302756334371', 'name': 'Like'}], 'is_hidden': False, 'description': 'Find all of our #Top20Toys as chosen by kids and moms at Walmart.ca ', 'is_expired': False}, {'link': 'https://www.facebook.com/633359826695331/photos/a.666106900087290.1073741828.633359826695331/666522526712394/?type=3', 'from': {'category': 'Retail and Consumer Merchandise', 'id': '633359826695331', 'name': 'Twist Test Page'}, 'id': '633359826695331_666523013379012', 'icon': 'https://www.facebook.com/images/icons/photo.gif', 'created_time': '2013-11-20T19:11:10+0000', 'picture': 'https://scontent.xx.fbcdn.net/hphotos-xap1/v/t1.0-0/p130x130/1463090_666522526712394_60811914_n.jpg?oh=940f11ce32cc5f5dd65564403b3c27f3&oe=577B5D28', 'status_type': 'added_photos', 'updated_time': '2013-11-20T19:11:10+0000', 'type': 'photo', 'message': 'FINALLY, the Xbox One launches tomorrow! Has your family been waiting for this all-in-one entertainment system?', 'privacy': {'deny': '', 'friends': '', 'allow': '', 'description': 'Anyone who can see this Page', 'value': 'EVERYONE'}, 'name': 'Timeline Photos', 'actions': [{'link': 'https://www.facebook.com/633359826695331/posts/666523013379012', 'name': 'Comment'}, {'link': 'https://www.facebook.com/633359826695331/posts/666523013379012', 'name': 'Like'}], 'object_id': '666522526712394', 'is_hidden': False, 'subscribed': True, 'is_expired': False}, {'link': 'https://www.facebook.com/633359826695331/photos/a.666106900087290.1073741828.633359826695331/666522886712358/?type=3', 'from': {'category': 'Retail and Consumer Merchandise', 'id': '633359826695331', 'name': 'Twist Test Page'}, 'id': '633359826695331_666523010045679', 'icon': 'https://www.facebook.com/images/icons/photo.gif', 'created_time': '2013-11-20T19:11:10+0000', 'picture': 'https://scontent.xx.fbcdn.net/hphotos-frc3/v/t1.0-0/p130x130/602095_666522886712358_30257797_n.jpg?oh=7b9cf8d644e017adcfdc64f616e5f7f8&oe=5786621B', 'status_type': 'added_photos', 'updated_time': '2013-11-20T19:11:10+0000', 'type': 'photo', 'message': 'Find the perfect gift and mom’s new favourite sweater! Check out the Alia line in stores now.', 'privacy': {'deny': '', 'friends': '', 'allow': '', 'description': 'Anyone who can see this Page', 'value': 'EVERYONE'}, 'name': 'Timeline Photos', 'actions': [{'link': 'https://www.facebook.com/633359826695331/posts/666523010045679', 'name': 'Comment'}, {'link': 'https://www.facebook.com/633359826695331/posts/666523010045679', 'name': 'Like'}], 'object_id': '666522886712358', 'is_hidden': False, 'subscribed': True, 'is_expired': False}, {'link': 'https://www.facebook.com/633359826695331/photos/a.666106900087290.1073741828.633359826695331/666189896745657/?type=3', 'from': {'category': 'Retail and Consumer Merchandise', 'id': '633359826695331', 'name': 'Twist Test Page'}, 'id': '633359826695331_666425226722124', 'icon': 'https://www.facebook.com/images/icons/photo.gif', 'created_time': '2013-11-20T15:00:01+0000', 'picture': 'https://scontent.xx.fbcdn.net/hphotos-xpa1/v/t1.0-0/p130x130/1450052_666189896745657_391904310_n.jpg?oh=6772ca09594a99140c8c80b9bfdac7d4&oe=57925245', 'status_type': 'added_photos', 'updated_time': '2013-11-20T15:00:01+0000', 'type': 'photo', 'message': 'Roulement de tambour! Les deux premiers jouets de notre décompte #Top20Toys sont... En 20e position, le Roi robot Arkeyan de Skylanders et en 19e position, La Question Impossible. Vous pouvez vous les procurez sur Walmart.ca et voir ainsi les yeux de vos petits s’illuminer au matin de Noël! \\r\\n\\r\\nhttp://wmc.tw/1aELGlD', 'privacy': {'deny': '', 'friends': '', 'allow': '', 'description': 'Canada, Français (France), Français (Canada)', 'value': 'CUSTOM'}, 'name': 'Timeline Photos', 'actions': [{'link': 'https://www.facebook.com/633359826695331/posts/666425226722124', 'name': 'Comment'}, {'link': 'https://www.facebook.com/633359826695331/posts/666425226722124', 'name': 'Like'}], 'object_id': '666189896745657', 'is_hidden': False, 'subscribed': True, 'is_expired': False}, {'link': 'http://wmc.tw/18m442X', 'from': {'category': 'Retail and Consumer Merchandise', 'id': '633359826695331', 'name': 'Twist Test Page'}, 'id': '633359826695331_666412790056701', 'icon': 'https://www.facebook.com/images/icons/post.gif', 'created_time': '2013-11-20T14:25:25+0000', 'picture': 'https://external.xx.fbcdn.net/safe_image.php?d=AQDAGWDBmj5A7mLc&w=130&h=130&url=fbstaging%3A%2F%2Fgraph.facebook.com%2Fstaging_resources%2FMDE2NjY0MTI3ODAwNTY3MDI6NTI2OTA2MTAz&cfs=1', 'status_type': 'shared_story', 'subscribed': True, 'updated_time': '2013-11-20T14:25:25+0000', 'type': 'link', 'message': 'At #15, it’s the Go! Go! Smart Wheels Train Station, #14, the Boom Boom Balloon, and #13, the LeapPad Ultra.', 'privacy': {'deny': '', 'friends': '', 'allow': '', 'description': 'Anyone who can see this Page', 'value': 'EVERYONE'}, 'name': 'Our Christmas Countdown is in full swing!', 'caption': 'walmart.ca/top-20-toys', 'actions': [{'link': 'https://www.facebook.com/633359826695331/posts/666412790056701', 'name': 'Comment'}, {'link': 'https://www.facebook.com/633359826695331/posts/666412790056701', 'name': 'Like'}], 'is_hidden': False, 'description': 'Find all of our #Top20Toys as chosen by kids and moms at Walmart.ca', 'is_expired': False}, {'link': 'http://www.walmart.ca/en/top-20-toys?icid=SP_NA_Top20Toys_NA_HP_NA_NA_HPHB_11152013_43_E', 'from': {'category': 'Retail and Consumer Merchandise', 'id': '633359826695331', 'name': 'Twist Test Page'}, 'id': '633359826695331_666107993420514', 'icon': 'https://www.facebook.com/images/icons/post.gif', 'created_time': '2013-11-20T00:17:43+0000', 'picture': 'https://external.xx.fbcdn.net/safe_image.php?d=AQAj8uJjmAbUosYg&w=130&h=130&url=fbstaging%3A%2F%2Fgraph.facebook.com%2Fstaging_resources%2FMDE2NjYxMDc5ODY3NTM4NDg6MTQ1OTc1MjYwNA%3D%3D&cfs=1', 'status_type': 'shared_story', 'subscribed': True, 'updated_time': '2013-11-20T00:17:43+0000', 'type': 'link', 'message': 'Drum roll! The first two toys in our #Top20Toys countdown are…#20, the Skylanders Arkeyan Robot King and #19, the LeapReader. ', 'privacy': {'deny': '', 'friends': '', 'allow': '', 'description': 'Anyone who can see this Page', 'value': 'EVERYONE'}, 'name': 'Top 20 Toys at Walmart.ca', 'caption': 'www.walmart.ca', 'actions': [{'link': 'https://www.facebook.com/633359826695331/posts/666107993420514', 'name': 'Comment'}, {'link': 'https://www.facebook.com/633359826695331/posts/666107993420514', 'name': 'Like'}], 'is_hidden': False, 'description': 'Get them now on Walmart.ca and watch their faces light up Christmas morning! ', 'is_expired': False}]\n"
     ]
    }
   ],
   "source": [
    "for k,v in feed.items():\n",
    "    print(k, 'corresponds with', v)\n",
    "    #print(v)"
   ]
  },
  {
   "cell_type": "code",
   "execution_count": 27,
   "metadata": {
    "collapsed": false
   },
   "outputs": [],
   "source": [
    "def get_date_range(num_days):\n",
    "    \"\"\"Return date strings in UTC format. The data is returned as\n",
    "    (start, end)\n",
    "    with the end date being today and the begin date being 'num_days' prior.\n",
    "    Twitter's maximum total days is 90.\"\"\"\n",
    "    today = datetime.datetime.utcnow()\n",
    "    prior = today - datetime.timedelta(days=num_days)\n",
    "\n",
    "    def add_milliseconds(timestamp): # arbitrary since millisecond precision not necessary\n",
    "        milli_ts = int(time.mktime(timestamp.timetuple()) * 1000)\n",
    "        milli_ts = str(milli_ts)\n",
    "        return milli_ts\n",
    "    start = add_milliseconds(prior)\n",
    "    end = add_milliseconds(today)\n",
    "    return (start, end)"
   ]
  },
  {
   "cell_type": "code",
   "execution_count": 134,
   "metadata": {
    "collapsed": false,
    "scrolled": true
   },
   "outputs": [
    {
     "name": "stdout",
     "output_type": "stream",
     "text": [
      "Breaking into 3 chunks.\n",
      "Chunk 1\n",
      "2016-03-04 21:00:44.756392 2015-12-05 21:00:44.756392\n",
      "Chunk 2\n",
      "2015-12-04 21:00:44.756392 2015-09-05 21:00:44.756392\n",
      "1\n",
      "2\n",
      "3\n",
      "4\n",
      "5\n",
      "6\n",
      "7\n",
      "8\n",
      "9\n"
     ]
    }
   ],
   "source": [
    "num_days = 90*3\n",
    "#get_date_range(180):\n",
    "\n",
    "def add_milliseconds(timestamp): # arbitrary since millisecond precision not necessary\n",
    "        milli_ts = int(time.mktime(timestamp.timetuple()) * 1000)\n",
    "        milli_ts = str(milli_ts)\n",
    "        return milli_ts\n",
    "        \n",
    "if num_days > 90:\n",
    "    chunks = int(math.ceil(num_days/90))\n",
    "    print('Breaking into', chunks, 'chunks.')\n",
    "    date1 = datetime.datetime.utcnow()\n",
    "    \n",
    "    for chunk in range(1,chunks):          \n",
    "            print('Chunk', chunk)\n",
    "            date2 = date1 - datetime.timedelta(days=90)           \n",
    "            print(date1, date2)\n",
    "            date1 = date2 - datetime.timedelta(days=1)\n",
    "            \n",
    "add_milliseconds(date2)\n",
    "\n",
    "for i in range(1,10):\n",
    "    print(i)"
   ]
  },
  {
   "cell_type": "code",
   "execution_count": 2,
   "metadata": {
    "collapsed": false
   },
   "outputs": [
    {
     "name": "stdout",
     "output_type": "stream",
     "text": [
      "/Users/vivek.menon/Dropbox/projects/socialaggregator/extract\n"
     ]
    }
   ],
   "source": [
    "def get_date_range(num_days):\n",
    "    \"\"\"Return date strings in UTC format. The data is returned as\n",
    "    (start, end)\n",
    "    with the end date being today and the begin date being 'num_days' prior.\n",
    "    Twitter's maximum total days is 90.\"\"\"\n",
    "\n",
    "    if num_days > 90:\n",
    "        chunks = math.ceil(num_days/90)\n",
    "        print('Breaking dates into into', chunks,'90 day chunks.')\n",
    "        date1 = datetime.datetime.utcnow()\n",
    "        \n",
    "        dateranges = []\n",
    "        \n",
    "        for chunk in range(1,chunks+1):          \n",
    "                date2 = date1 - datetime.timedelta(days=90)     \n",
    "\n",
    "                start = add_milliseconds(date1)\n",
    "                end = add_milliseconds(date2)\n",
    "\n",
    "                print('Processing chunk', chunk, ': ', date1, 'to', date2)\n",
    "                dateranges.append((start,end))\n",
    "                date1 = date2 - datetime.timedelta(days=1)\n",
    "        \n",
    "    return(dateranges)\n",
    "import os\n",
    "print(os.getcwd())"
   ]
  },
  {
   "cell_type": "code",
   "execution_count": 136,
   "metadata": {
    "collapsed": false
   },
   "outputs": [
    {
     "name": "stdout",
     "output_type": "stream",
     "text": [
      "login_req response:  200\n",
      "Breaking dates into into 2  90 day chunks.\n",
      "Processing chunk 1 :  2016-03-04 21:00:50.036485 to 2015-12-05 21:00:50.036485\n",
      "Processing chunk 2 :  2015-12-04 21:00:50.036485 to 2015-09-05 21:00:50.036485\n",
      "1 Available\n",
      "data_req response:  200\n",
      "1 Available\n",
      "data_req response:  200\n",
      "CSV downloaded:  /Users/vivek.menon/Dropbox/projects/socialaggregator/extract/twitter_data_Sldgehammerwine2016-03-04 21:01:00.767791.csv\n"
     ]
    }
   ],
   "source": [
    "#!/usr/bin/python3\n",
    "# Source: https://github.com/t-pfaff/twitter-analytics-export\n",
    "\n",
    "#TODO: Modify TwitteR_Flow to Twitter Aggregator; clean up script for agent\n",
    "\n",
    "\n",
    "def twitter_flow(USERNAME, PASSWORD, ANALYTICS_ACCOUNT, NUM_DAYS, OUTPUT_DIRECTORY):\n",
    "    user_agent = {'User-agent': 'Mozilla/5.0 (Macintosh; Intel Mac OS X 10_9_5) AppleWebKit/537.36 (KHTML, like Gecko) Chrome/44.0.2403.157 Safari/537.36'}\n",
    "    session = twitter_login(USERNAME, PASSWORD, user_agent)\n",
    "    \n",
    "    split_data = []\n",
    "    \n",
    "    # get_date_range returns a list\n",
    "    totalrange = get_date_range(NUM_DAYS)\n",
    "    # for value in list, run all of the following, replacing start_time and end_time for each value\n",
    "    for subrange in range(0, len(totalrange)):\n",
    "\n",
    "        start_time, end_time = totalrange[subrange]\n",
    "        \n",
    "        \n",
    "        data_string = get_tweet_data(session, ANALYTICS_ACCOUNT, start_time, end_time, user_agent)\n",
    "        \n",
    "        if (subrange > 0):\n",
    "            split_data = split_data + format_data(data_string)[1:]\n",
    "            #print(split_data)\n",
    "        else:\n",
    "            split_data = split_data + format_data(data_string)\n",
    "            #print(split_data)\n",
    "\n",
    "        \n",
    "    outfile = get_filename(OUTPUT_DIRECTORY, USERNAME)#, start_time, end_time)\n",
    "        \n",
    "    with open(outfile, 'w', encoding='utf-8') as f:\n",
    "        writer = csv.writer(f)\n",
    "        for line in split_data:\n",
    "               writer.writerow(line)\n",
    "\n",
    "    print(\"CSV downloaded: \", outfile)\n",
    "        \n",
    "    \n",
    "        \n",
    "twitter_flow(USERNAME='Sldgehammerwine',PASSWORD='Ko3n46p0',ANALYTICS_ACCOUNT='Sldgehammerwine',NUM_DAYS=180, OUTPUT_DIRECTORY=os.getcwd())"
   ]
  },
  {
   "cell_type": "code",
   "execution_count": 71,
   "metadata": {
    "collapsed": true
   },
   "outputs": [],
   "source": [
    "def twitter_login(user, pw, user_agent):\n",
    "    \"\"\"Start a requests session and login to Twitter with credentials.\n",
    "    Returned object is logged-in session.\"\"\"\n",
    "\n",
    "    tw_url = \"https://twitter.com/\"\n",
    "    session = requests.session()\n",
    "    first_req = session.get(tw_url)\n",
    "\n",
    "    auth_token_str = re.search(r'<input type=\"hidden\" value=\"([a-zA-Z0-9]*)\" name=\"authenticity_token\"\\>',\n",
    "          first_req.text)\n",
    "    authenticity_token = auth_token_str.group(1)\n",
    "\n",
    "    login_url = 'https://twitter.com/sessions'\n",
    "\n",
    "    payload = {\n",
    "        'session[username_or_email]' : user,\n",
    "        'session[password]' : pw,\n",
    "        'remember_me' : '1',\n",
    "        'return_to_ssl' : 'true',\n",
    "        'scribe_log' : None,\n",
    "        'redirect_after_login':'/',\n",
    "        'authenticity_token': authenticity_token\n",
    "    }\n",
    "\n",
    "    login_req = session.post(login_url, data=payload, headers=user_agent)\n",
    "    print( \"login_req response: \", login_req.status_code)\n",
    "\n",
    "    return session"
   ]
  },
  {
   "cell_type": "code",
   "execution_count": 70,
   "metadata": {
    "collapsed": true
   },
   "outputs": [],
   "source": [
    "def get_tweet_data(session, analytics_account, start_time, end_time, user_agent):\n",
    "    \"\"\"Complete the process behind clicking 'Export data' at\n",
    "    https://analytics.twitter.com/user/USERNAME/tweets\n",
    "    Data is returned as a raw string containing comma-separated data\"\"\"\n",
    "\n",
    "    export_url = \"https://analytics.twitter.com/user/\" + analytics_account + \"/tweets/export.json\"\n",
    "    bundle_url = \"https://analytics.twitter.com/user/\" + analytics_account + \"/tweets/bundle\"\n",
    "\n",
    "    export_data = {\n",
    "        'start_time' : end_time,\n",
    "        'end_time' : start_time,\n",
    "        'lang' : 'en'\n",
    "    }\n",
    "    querystring = '?' + urllib.parse.urlencode(export_data)\n",
    "\n",
    "    status = 'Pending'\n",
    "    counter = 0\n",
    "    while status == 'Pending':\n",
    "        attempt = session.post(export_url + querystring, headers=user_agent)\n",
    "        status_dict = json.loads(attempt.text)\n",
    "        status = status_dict['status']\n",
    "        counter += 1\n",
    "        print(counter, status)\n",
    "        time.sleep(5)\n",
    "\n",
    "    csv_header = {'Content-Type': 'application/csv',\n",
    "              'Accept': 'text/html,application/xhtml+xml,application/xml;q=0.9,image/webp,*/*;q=0.8',\n",
    "              'Accept-Encoding': 'gzip, deflate, sdch',\n",
    "              'Accept-Language': 'en-US,en;q=0.8',\n",
    "              'Upgrade-Insecure-Requests': '1',\n",
    "              'User-Agent': 'Mozilla/5.0 (Macintosh; Intel Mac OS X 10_9_5) AppleWebKit/537.36 (KHTML, like Gecko) Chrome/44.0.2403.157 Safari/537.36'}\n",
    "\n",
    "    data_req = session.get(bundle_url + querystring, headers=csv_header)\n",
    "    print(\"data_req response: \", data_req.status_code)\n",
    "    return data_req.text"
   ]
  },
  {
   "cell_type": "code",
   "execution_count": 66,
   "metadata": {
    "collapsed": true
   },
   "outputs": [],
   "source": [
    "def add_milliseconds(timestamp): # arbitrary since millisecond precision not necessary\n",
    "        milli_ts = int(time.mktime(timestamp.timetuple()) * 1000)\n",
    "        milli_ts = str(milli_ts)\n",
    "        return milli_ts"
   ]
  },
  {
   "cell_type": "code",
   "execution_count": 68,
   "metadata": {
    "collapsed": true
   },
   "outputs": [],
   "source": [
    "def format_data(data_string):\n",
    "    \"\"\"Transform raw data string into list-of-lists format\"\"\"\n",
    "    lines = data_string.split('\\\"\\n\\\"')\n",
    "    split_data = [re.split(r\"\\\"\\s*,\\s*\\\"\", line) for line in lines]\n",
    "\n",
    "    return split_data"
   ]
  },
  {
   "cell_type": "code",
   "execution_count": 132,
   "metadata": {
    "collapsed": false
   },
   "outputs": [],
   "source": [
    "def get_filename(output_dir, accountname):\n",
    "    \"\"\"Build descriptive filename for CSV\"\"\"\n",
    "    f_name = 'twitter_data_' + accountname + str(datetime.datetime.utcnow()) + '.csv'#  start_time + '_' + end_time \n",
    "    full_path = output_dir + '/' + f_name\n",
    "\n",
    "    return full_path"
   ]
  }
 ],
 "metadata": {
  "kernelspec": {
   "display_name": "Python 3",
   "language": "python",
   "name": "python3"
  },
  "language_info": {
   "codemirror_mode": {
    "name": "ipython",
    "version": 3
   },
   "file_extension": ".py",
   "mimetype": "text/x-python",
   "name": "python",
   "nbconvert_exporter": "python",
   "pygments_lexer": "ipython3",
   "version": "3.5.2"
  }
 },
 "nbformat": 4,
 "nbformat_minor": 0
}
